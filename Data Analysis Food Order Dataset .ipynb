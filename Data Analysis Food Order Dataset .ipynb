{
 "cells": [
  {
   "cell_type": "markdown",
   "id": "b1235c09",
   "metadata": {},
   "source": [
    "# Data scientist: analytics specialist path Codecademy¶"
   ]
  },
  {
   "cell_type": "markdown",
   "id": "8c5c9791",
   "metadata": {},
   "source": []
  },
  {
   "cell_type": "markdown",
   "id": "7ef5e50c",
   "metadata": {},
   "source": [
    "# 21.Data Scientist: Analytics Specialist Final Project: Food Ordering and Delivery "
   ]
  },
  {
   "cell_type": "markdown",
   "id": "123541c1",
   "metadata": {},
   "source": []
  },
  {
   "cell_type": "markdown",
   "id": "ab59f486",
   "metadata": {},
   "source": [
    "# Objectives"
   ]
  },
  {
   "cell_type": "markdown",
   "id": "cc231df5",
   "metadata": {},
   "source": [
    "Analyze data of different orders made by the registered customers in an online portal (App) of a food aggregator company to get a view how restaurants can streamline their operations and improve their customer experience."
   ]
  },
  {
   "cell_type": "markdown",
   "id": "0bc09443",
   "metadata": {},
   "source": [
    "# Introduction"
   ]
  },
  {
   "cell_type": "markdown",
   "id": "149b6d09",
   "metadata": {},
   "source": [
    "Foodhub is a company that provides online food ordering services to restaurants and takeaways. The company has developed a range of software tools and platforms, that are designed to help restaurants manage their day-to-day activities, such as taking orders, tracking inventory, and analyzing sales data. These tools are easy to use and provide valuable insights that can help restaurants make informed decisions about their operations[REF1]. Briefly, the food aggregator company FoodHub offers access to multiple restaurants through a single smartphone app. The app allows the restaurants to receive a direct online order from a customer. The app assigns a delivery person from the company to pick up the order after it is confirmed by the restaurant. The delivery person then uses the map to reach the restaurant and waits for the food package. Once the food package is handed over to the delivery person, the pick-up does confirm in the app and travels to the customer's location to deliver the food. The delivery person confirms the drop-off in the app after delivering the food package to the customer. The customer can rate the order in the app [REF2]. Analyze data of different orders made by the registered customers in the online portal (App) of the food aggregator company allow to get a view how these restaurants can streamline their operations and improve their customer experience."
   ]
  },
  {
   "cell_type": "markdown",
   "id": "20df7acd",
   "metadata": {},
   "source": [
    "# Methods"
   ]
  },
  {
   "cell_type": "markdown",
   "id": "960c8146",
   "metadata": {},
   "source": [
    "The dataset (food_order csv) has been available through the Kaggle website [REF2] and it has been selected based on several criteria provided by the Codecademy platform (e.g. Is a reliable dataset? Does the dataset cointain detailed data dictionary of each variable? Does the dataset allow to perform a specific analysis?). Before to perform the data visualisation, inspection of the dataframe has been performed in order to get a view of the descriptive statistics and further to clean up mistakes due to wrong spelling in the variables or missing values. The food_order csv file contains different data related to the Foodhub company and a detailed data dictionary of each enclosed variable. Data analysis has been performed using the Exploratory Data Analysis (EDA) approach that does employ a variety of techniques (mostly graphical) to maximize insight into the dataset, extract important variables and determine optimal factor settings. Data analysis was performed using Python 3 software. The Python script is reported below."
   ]
  },
  {
   "cell_type": "markdown",
   "id": "2da94c6e",
   "metadata": {},
   "source": [
    "# Results"
   ]
  },
  {
   "cell_type": "markdown",
   "id": "d5d5aa4f",
   "metadata": {},
   "source": [
    "The original dataframe does contain 1898 observations and 9 variables (restaurant_name, cuisine_type , day_of_the_week and rating, order_id, customer_id, food_preparation_time, delivery_time and cost_of_the_order). After clean up mistakes due to wrong spelling in the name restaurant variables and missing values in the rating variable, the number of the order ids is 1868, there are 1183 unique customers, the \"updated\" number of restaurants is 147 (instead of 178), the categories of the rating variable are 3 (3, 4, 5, repsectively). Besides, in the dataframe are present 14 categories for the cuisine variable (American, Chinese, French, Indian, Italian, Japanese, Korean, Mediterranean, Mexican, Middle Eastern, Southern, Spanish, Thai and Vietnamese) and the presence of 2 categories for the day of week in which the order is placed (Weekday and Weekend). Data analysis using the EDA approach shows that the American cuisine show the highest percentages of orders by the customers (31,0%), followed by the Japanes, the Italian and Chinese cuisines (25,1%, 15.2% and 11.4% respectively). On the other side, the Spanish, the Korean and Vietmanese cuisine seem to have the lowest number of orders by the customrs (0.6%, 0.6% and 0.4%, respectively). Besides, the food orders are mainly made by the customers in the weekend than during the other days of the week (70,9%, 29.1%, respectively). \n",
    "The mean of the price, the preparation time and delivery of the food for the most four popular categories of cuisines (American, Japanes, the Italian and Chinese) do not seem to different to much, neverless the percentages of food orders withing these categories is different. No relavant correlation between the price of the food and both the food preparation and time delivery. "
   ]
  },
  {
   "cell_type": "markdown",
   "id": "bb0eca3d",
   "metadata": {},
   "source": [
    "# Conclusions"
   ]
  },
  {
   "cell_type": "markdown",
   "id": "f26153c3",
   "metadata": {},
   "source": [
    "The results have been confirmed the success of the vision of the company to automate and bring software to help restaurants run more efficiently. The results of the analysis seem to confirm that by using technology, restaurants can streamline their operations and improve their customer experience. However, some limitations and further investigation in gain more data is required in order to get available data related to a more long time period, pointed out also difference in time trends between years and seasons. Further research could be adress to overcome the limitations and results of this analysis"
   ]
  },
  {
   "cell_type": "markdown",
   "id": "a9285bf1",
   "metadata": {},
   "source": [
    "# Python script¶"
   ]
  },
  {
   "cell_type": "markdown",
   "id": "e5af2449",
   "metadata": {},
   "source": [
    "DATA ACQUISITION\n",
    "\n",
    "Before to upload the csv file, the Python libraries used in the further analysis have been imported."
   ]
  },
  {
   "cell_type": "code",
   "execution_count": 1,
   "id": "d3607ea0",
   "metadata": {},
   "outputs": [],
   "source": [
    "#Upload the Python libraries\n",
    "import csv\n",
    "import pandas as pd\n",
    "import numpy as np\n",
    "import seaborn as sns\n",
    "import statsmodels\n",
    "import matplotlib.pyplot as plt\n",
    "import math"
   ]
  },
  {
   "cell_type": "markdown",
   "id": "f3ff020d",
   "metadata": {},
   "source": [
    "Load the food_order data (CSV file) from the Kaggle platform [REF2]"
   ]
  },
  {
   "cell_type": "code",
   "execution_count": 2,
   "id": "936147c1",
   "metadata": {},
   "outputs": [],
   "source": [
    "#food_order.csv > The csv file holds recorded hightings different ranking data of food delivery\n",
    "dataset = pd.read_csv('food_order.csv')\n",
    "dataset_obs = pd.DataFrame(dataset) #Make dataframe "
   ]
  },
  {
   "cell_type": "markdown",
   "id": "509997b1",
   "metadata": {},
   "source": [
    "INSPECT, CLEAN AND VALIDATE THE FOOD ORDER DATAFRAME\n",
    "\n",
    "Before to perform the data visualisation, inspection of the dataframe has been performed in order to get a view of the descriptive statistics (such as view of their enclosed variables, their size and shape etc.) and to further clean up mistakes due to wrong spelling in the variables or missing values."
   ]
  },
  {
   "cell_type": "code",
   "execution_count": 3,
   "id": "86db82ce",
   "metadata": {},
   "outputs": [
    {
     "name": "stdout",
     "output_type": "stream",
     "text": [
      "   order_id  customer_id            restaurant_name cuisine_type  \\\n",
      "0   1477147       337525                    Hangawi       Korean   \n",
      "1   1477685       358141  Blue Ribbon Sushi Izakaya     Japanese   \n",
      "2   1477070        66393                Cafe Habana      Mexican   \n",
      "3   1477334       106968  Blue Ribbon Fried Chicken     American   \n",
      "4   1478249        76942           Dirty Bird to Go     American   \n",
      "\n",
      "   cost_of_the_order day_of_the_week     rating  food_preparation_time  \\\n",
      "0              30.75         Weekend  Not given                     25   \n",
      "1              12.08         Weekend  Not given                     25   \n",
      "2              12.23         Weekday          5                     23   \n",
      "3              29.20         Weekend          3                     25   \n",
      "4              11.59         Weekday          4                     25   \n",
      "\n",
      "   delivery_time  \n",
      "0             20  \n",
      "1             23  \n",
      "2             28  \n",
      "3             15  \n",
      "4             24  \n",
      "['order_id' 'customer_id' 'restaurant_name' 'cuisine_type'\n",
      " 'cost_of_the_order' 'day_of_the_week' 'rating' 'food_preparation_time'\n",
      " 'delivery_time']\n",
      "<class 'pandas.core.frame.DataFrame'>\n",
      "RangeIndex: 1898 entries, 0 to 1897\n",
      "Data columns (total 9 columns):\n",
      " #   Column                 Non-Null Count  Dtype  \n",
      "---  ------                 --------------  -----  \n",
      " 0   order_id               1898 non-null   int64  \n",
      " 1   customer_id            1898 non-null   int64  \n",
      " 2   restaurant_name        1898 non-null   object \n",
      " 3   cuisine_type           1898 non-null   object \n",
      " 4   cost_of_the_order      1898 non-null   float64\n",
      " 5   day_of_the_week        1898 non-null   object \n",
      " 6   rating                 1898 non-null   object \n",
      " 7   food_preparation_time  1898 non-null   int64  \n",
      " 8   delivery_time          1898 non-null   int64  \n",
      "dtypes: float64(1), int64(4), object(4)\n",
      "memory usage: 133.6+ KB\n"
     ]
    },
    {
     "data": {
      "text/html": [
       "<div>\n",
       "<style scoped>\n",
       "    .dataframe tbody tr th:only-of-type {\n",
       "        vertical-align: middle;\n",
       "    }\n",
       "\n",
       "    .dataframe tbody tr th {\n",
       "        vertical-align: top;\n",
       "    }\n",
       "\n",
       "    .dataframe thead th {\n",
       "        text-align: right;\n",
       "    }\n",
       "</style>\n",
       "<table border=\"1\" class=\"dataframe\">\n",
       "  <thead>\n",
       "    <tr style=\"text-align: right;\">\n",
       "      <th></th>\n",
       "      <th>order_id</th>\n",
       "      <th>customer_id</th>\n",
       "      <th>cost_of_the_order</th>\n",
       "      <th>food_preparation_time</th>\n",
       "      <th>delivery_time</th>\n",
       "    </tr>\n",
       "  </thead>\n",
       "  <tbody>\n",
       "    <tr>\n",
       "      <th>count</th>\n",
       "      <td>1.898000e+03</td>\n",
       "      <td>1898.000000</td>\n",
       "      <td>1898.000000</td>\n",
       "      <td>1898.000000</td>\n",
       "      <td>1898.000000</td>\n",
       "    </tr>\n",
       "    <tr>\n",
       "      <th>mean</th>\n",
       "      <td>1.477496e+06</td>\n",
       "      <td>171168.478398</td>\n",
       "      <td>16.498851</td>\n",
       "      <td>27.371970</td>\n",
       "      <td>24.161749</td>\n",
       "    </tr>\n",
       "    <tr>\n",
       "      <th>std</th>\n",
       "      <td>5.480497e+02</td>\n",
       "      <td>113698.139743</td>\n",
       "      <td>7.483812</td>\n",
       "      <td>4.632481</td>\n",
       "      <td>4.972637</td>\n",
       "    </tr>\n",
       "    <tr>\n",
       "      <th>min</th>\n",
       "      <td>1.476547e+06</td>\n",
       "      <td>1311.000000</td>\n",
       "      <td>4.470000</td>\n",
       "      <td>20.000000</td>\n",
       "      <td>15.000000</td>\n",
       "    </tr>\n",
       "    <tr>\n",
       "      <th>25%</th>\n",
       "      <td>1.477021e+06</td>\n",
       "      <td>77787.750000</td>\n",
       "      <td>12.080000</td>\n",
       "      <td>23.000000</td>\n",
       "      <td>20.000000</td>\n",
       "    </tr>\n",
       "    <tr>\n",
       "      <th>50%</th>\n",
       "      <td>1.477496e+06</td>\n",
       "      <td>128600.000000</td>\n",
       "      <td>14.140000</td>\n",
       "      <td>27.000000</td>\n",
       "      <td>25.000000</td>\n",
       "    </tr>\n",
       "    <tr>\n",
       "      <th>75%</th>\n",
       "      <td>1.477970e+06</td>\n",
       "      <td>270525.000000</td>\n",
       "      <td>22.297500</td>\n",
       "      <td>31.000000</td>\n",
       "      <td>28.000000</td>\n",
       "    </tr>\n",
       "    <tr>\n",
       "      <th>max</th>\n",
       "      <td>1.478444e+06</td>\n",
       "      <td>405334.000000</td>\n",
       "      <td>35.410000</td>\n",
       "      <td>35.000000</td>\n",
       "      <td>33.000000</td>\n",
       "    </tr>\n",
       "  </tbody>\n",
       "</table>\n",
       "</div>"
      ],
      "text/plain": [
       "           order_id    customer_id  cost_of_the_order  food_preparation_time  \\\n",
       "count  1.898000e+03    1898.000000        1898.000000            1898.000000   \n",
       "mean   1.477496e+06  171168.478398          16.498851              27.371970   \n",
       "std    5.480497e+02  113698.139743           7.483812               4.632481   \n",
       "min    1.476547e+06    1311.000000           4.470000              20.000000   \n",
       "25%    1.477021e+06   77787.750000          12.080000              23.000000   \n",
       "50%    1.477496e+06  128600.000000          14.140000              27.000000   \n",
       "75%    1.477970e+06  270525.000000          22.297500              31.000000   \n",
       "max    1.478444e+06  405334.000000          35.410000              35.000000   \n",
       "\n",
       "       delivery_time  \n",
       "count    1898.000000  \n",
       "mean       24.161749  \n",
       "std         4.972637  \n",
       "min        15.000000  \n",
       "25%        20.000000  \n",
       "50%        25.000000  \n",
       "75%        28.000000  \n",
       "max        33.000000  "
      ]
     },
     "execution_count": 3,
     "metadata": {},
     "output_type": "execute_result"
    }
   ],
   "source": [
    "#Food order dataframe \n",
    "print(dataset_obs.head(5)) # first items of the dataset\n",
    "print(dataset_obs.columns.values) #View  of the columns (varialbes) of the dataset1 \n",
    "dataset_obs.info()     #concise summary of the dataframe like the index dtype and columns, non-null values and memory usage \n",
    "dataset_obs.describe() #Simple statistics of the numnerical variables"
   ]
  },
  {
   "cell_type": "code",
   "execution_count": 4,
   "id": "a119ee5f",
   "metadata": {},
   "outputs": [
    {
     "name": "stdout",
     "output_type": "stream",
     "text": [
      "17082\n",
      "(1898, 9)\n"
     ]
    }
   ],
   "source": [
    "size = dataset_obs.size # dataframe.size\n",
    "print(size)\n",
    "shape =dataset_obs.shape  # dataframe.shape\n",
    "print(shape)"
   ]
  },
  {
   "cell_type": "markdown",
   "id": "80c2eb60",
   "metadata": {},
   "source": [
    "The above outputs show that the dataframe does contain 1898 observations and its size (17082) is equivalent to its rows x columns (1898x9). Besides, the dataframe is characterised by 9 variables: 4 categorical variables (restaurant_name, cuisine_type, day_of_the_week and rating), 4 numerical varialbes (order_id, customer_id, food_preparation_time and delivery_time) and 1 float variable (cost_of_the_order). Based on [REF2], the detailed data dictionary enclosed in the dataframe does provide a short description of the each variable and it is reported below."
   ]
  },
  {
   "cell_type": "code",
   "execution_count": 5,
   "id": "a31e7e0f",
   "metadata": {},
   "outputs": [
    {
     "name": "stdout",
     "output_type": "stream",
     "text": [
      "{'order_id': 'Unique ID of the order', 'customer_id': 'ID of the customer who ordered the food', 'restaurant_name': 'Name of the restaurant', 'cuisine_type': 'Cuisine ordered by the customer', 'cost': 'Cost of the order ($)', 'day_of_the_week': 'Indicates whether the order is placed on a weekday or weekend (The weekday is from Monday to Friday and the weekend is Saturday and Sunday)', 'rating': 'Rating given by the customer out of 5', 'food_preparation_time': 'Time (in minutes) taken by the restaurant to prepare the food. This is calculated by taking the difference between the timestamps of the restaurant order confirmation and the delivery person pick-up confirmation', 'delivery_time': 'Time (in minutes) taken by the delivery person to deliver the food package. This is calculated by taking the difference between the timestamps of the delivery person'}\n",
      "<class 'dict'>\n"
     ]
    }
   ],
   "source": [
    "#food_order dictionary\n",
    "dataframe_dictionary = {'order_id': 'Unique ID of the order', 'customer_id': 'ID of the customer who ordered the food', 'restaurant_name': 'Name of the restaurant',\n",
    "                 'cuisine_type': 'Cuisine ordered by the customer', 'cost': 'Cost of the order ($)', 'day_of_the_week': 'Indicates whether the order is placed on a weekday or weekend (The weekday is from Monday to Friday and the weekend is Saturday and Sunday)',\n",
    "                 'rating': 'Rating given by the customer out of 5', 'food_preparation_time': 'Time (in minutes) taken by the restaurant to prepare the food. This is calculated by taking the difference between the timestamps of the restaurant order confirmation and the delivery person pick-up confirmation',\n",
    "                 'delivery_time': 'Time (in minutes) taken by the delivery person to deliver the food package. This is calculated by taking the difference between the timestamps of the delivery person'}\n",
    "print(dataframe_dictionary)\n",
    "print(type(dataframe_dictionary)) #check data type"
   ]
  },
  {
   "cell_type": "markdown",
   "id": "20c2c209",
   "metadata": {},
   "source": [
    "Inspection of each CATEGORICAL VARIABLE and eventually clean up of spelling mistakes and missing values enclosed in the Dataframe."
   ]
  },
  {
   "cell_type": "code",
   "execution_count": 6,
   "id": "accad8a2",
   "metadata": {},
   "outputs": [
    {
     "name": "stdout",
     "output_type": "stream",
     "text": [
      " The number of the different restaurants is 178\n"
     ]
    }
   ],
   "source": [
    "# Inspection variable restaurant_name\n",
    "print(\" The number of the different restaurants is {}\".format(dataset_obs[\"restaurant_name\"].nunique())) "
   ]
  },
  {
   "cell_type": "code",
   "execution_count": 7,
   "id": "3eefb26d",
   "metadata": {},
   "outputs": [
    {
     "name": "stdout",
     "output_type": "stream",
     "text": [
      "[\"'wichcraft\" '12 Chairs' '5 Napkin Burger' '67 Burger' 'Alidoro' 'Amma'\n",
      " \"Amy Ruth's\" 'Anjappar Chettinad' 'Asuka Sushi' 'Aurora' 'Balade'\n",
      " 'Balthazar Boulangerie' 'Barbounia' 'Bareburger' 'Benihana'\n",
      " 'Bhatti Indian Grill' \"Big Daddy's\" 'Big Wong Restaurant \\x8c_¤¾Ñ¼'\n",
      " 'Bistango' 'Blue Ribbon Brooklyn' 'Blue Ribbon Fried Chicken'\n",
      " 'Blue Ribbon Sushi' 'Blue Ribbon Sushi Bar & Grill'\n",
      " 'Blue Ribbon Sushi Izakaya' 'Boqueria' \"Bubby's \" 'Bukhara Grill'\n",
      " 'Burger Joint' 'Byblos Restaurant' 'Cafe Habana' 'Cafe Mogador'\n",
      " 'Cafe de La Esquina' 'Cafeteria' 'CafÌ© China' \"Carmine's\"\n",
      " 'Chipotle Mexican Grill $1.99 Delivery' 'Cho Dang Gol'\n",
      " 'Chola Eclectic Indian Cuisine' 'Chote Nawab' 'Cipriani Le Specialita'\n",
      " \"Coppola's East\" 'Crema Restaurante' 'Delicatessen' 'DespaÌ±a'\n",
      " \"Dickson's Farmstand Meats\" 'Dig Inn Seasonal Market'\n",
      " 'Dirty Bird To Go (archived)' 'Dirty Bird to Go'\n",
      " \"Don's Bogam BBQ & Wine Bar\" 'Donburi-ya' 'Dos Caminos'\n",
      " 'Dos Caminos Soho' 'DuMont Burger' 'El Parador Cafe'\n",
      " 'Empanada Mama (closed)' 'Emporio' 'Five Guys Burgers and Fries'\n",
      " 'Five Leaves' 'Frank Restaurant' 'Friend of a Farmer' 'Gaia Italian Cafe'\n",
      " 'Galli Restaurant' 'Go! Go! Curry!' 'Grand Sichuan International'\n",
      " 'Haandi' 'Hampton Chutney Co.' 'Han Dynasty' 'Hangawi'\n",
      " 'Haru Gramercy Park' 'Hatsuhana' 'Haveli Indian Restaurant' 'Hibino'\n",
      " 'Hill Country Fried Chicken' \"Hiroko's Place\" 'Hot Kitchen'\n",
      " 'Hummus Place' 'Hunan Manor' 'Il Bambino' 'Izakaya Ten' 'J. G. Melon'\n",
      " \"Jack's Wife Freda\" \"Joe's Shanghai \\x8e_À\\x8eü£¾÷´\" 'Junoon'\n",
      " 'Kambi Ramen House' 'Kanoyama' 'Klong' 'Kori Restaurant and Bar'\n",
      " \"L'Express\" 'La Follia' 'Lamarca Pasta' 'Lantern Thai Kitchen'\n",
      " 'Le Grainne Cafe' 'Le Zie 2000 Trattoria' 'Lucky Strike'\n",
      " \"Lucky's Famous Burgers\" \"Mamoun's Falafel\" 'Market Table' 'Melt Shop'\n",
      " 'Mira Sushi' 'Mission Cantina' 'Momoya' 'Moonstruck on Second'\n",
      " 'Nha Trang One' 'Nobu Next Door' 'Olea' 'Olive Garden' 'Osteria Morini'\n",
      " 'Otto Enoteca Pizzeria' \"P.J. Clarke's\" 'Parm' \"Paul & Jimmy's\"\n",
      " 'Pepe Giallo' 'Pepe Rosso To Go' 'Philippe Chow' 'Piccolo Angolo'\n",
      " 'Pinto Nouveau Thai Bistro' 'Pongsri Thai' 'Posto' 'Prosperity Dumpling'\n",
      " 'Pylos' 'Ravagh Persian Grill' 'RedFarm Broadway' 'RedFarm Hudson'\n",
      " 'Rohm Thai' 'Room Service' 'Rubirosa' 'Rye House' \"S'MAC\" 'Samurai Mama'\n",
      " \"Sarabeth's\" \"Sarabeth's East\" \"Sarabeth's Restaurant\" \"Sarabeth's West\"\n",
      " 'Saravanaa Bhavan' \"Schnipper's Quality Kitchen\"\n",
      " 'Serafina Fabulous Pizza' 'Shake Shack' 'Socarrat Paella Bar'\n",
      " 'Song Thai Restaurant & Bar' 'Spice Thai' 'Sushi Choshi' 'Sushi Samba'\n",
      " 'Sushi of Gari' 'Sushi of Gari 46' 'Sushi of Gari Tribeca' 'TAO'\n",
      " 'Tamarind TriBeCa' 'Tarallucci e Vino Restaurant' 'Taro Sushi'\n",
      " 'Terakawa Ramen' 'The Kati Roll Company' 'The Loop' 'The MasalaWala'\n",
      " 'The Meatball Shop' 'The Odeon' 'The Smile' \"Tony's Di Napoli\" 'Tortaria'\n",
      " 'Tres Carnes' 'UVA Wine Bar & Restaurant' 'V-Nam Cafe'\n",
      " \"Vanessa's Dumpling House\" \"Vanessa's Dumplings\" 'Vezzo Thin Crust Pizza'\n",
      " 'Wa Jeal' 'Waverly Diner' 'Westville Hudson' 'Wo Hop Restaurant'\n",
      " 'Woorijip' 'Xe May Sandwich Shop' \"Xi'an Famous Foods\" 'Yama 49'\n",
      " 'Yama Japanese Restaurant' 'Zero Otto Nove' 'brgr' 'da Umberto'\n",
      " 'ilili Restaurant' 'indikitch']\n"
     ]
    }
   ],
   "source": [
    "print(dataset_obs.sort_values(by=['restaurant_name']).restaurant_name.unique())"
   ]
  },
  {
   "cell_type": "markdown",
   "id": "614204cc",
   "metadata": {},
   "source": [
    "The output shows the presence of 178 restaurants enclosed in the dataframe. However, a deep inspection of the output does show  mistake in the spelling of some name of restaurant that have been therefore renamed in the right format."
   ]
  },
  {
   "cell_type": "code",
   "execution_count": 8,
   "id": "a9a68413",
   "metadata": {},
   "outputs": [
    {
     "name": "stdout",
     "output_type": "stream",
     "text": [
      " The number of the different restaurants is 169\n"
     ]
    }
   ],
   "source": [
    "#Rename to delete the mistake of wrong name restaurants\n",
    "dataset_obs['restaurant_name'] = dataset_obs['restaurant_name'].replace(['Big Wong Restaurant \\x8c_¤¾Ñ¼'], 'Big Wong Restaurant')\n",
    "dataset_obs['restaurant_name'] = dataset_obs['restaurant_name'].replace(['Dirty Bird To Go (archived)'], 'Dirty Bird to Go')\n",
    "dataset_obs['restaurant_name'] = dataset_obs['restaurant_name'].replace([\"Joe's Shanghai \\x8e_À\\x8eü£¾÷´\"], \"Joe's Shanghai\")\n",
    "dataset_obs['restaurant_name'] = dataset_obs['restaurant_name'].replace([\"Sushi of Gari 46\"], \"Sushi of Gari\")\n",
    "dataset_obs['restaurant_name'] = dataset_obs['restaurant_name'].replace([\"Sushi of Gari Tribeca\"], \"Sushi of Gari\")\n",
    "dataset_obs['restaurant_name'] = dataset_obs['restaurant_name'].replace([\"Vanessa's Dumpling House\"], \"Vanessa's Dumplings\")\n",
    "dataset_obs['restaurant_name'] = dataset_obs['restaurant_name'].replace([\"Chipotle Mexican Grill $1.99 Delivery\"], \"Chipotle Mexican Grill Delivery\")\n",
    "dataset_obs['restaurant_name'] = dataset_obs['restaurant_name'].replace([\"Empanada Mama (closed)\"], \"Empanada Mama\")\n",
    "dataset_obs['restaurant_name'] = dataset_obs['restaurant_name'].replace([\"Sarabeth's East\"], \"Sarabeth's Restaurant\")\n",
    "dataset_obs['restaurant_name'] = dataset_obs['restaurant_name'].replace([\"Sarabeth's\"], \"Sarabeth's Restaurant\")\n",
    "dataset_obs['restaurant_name'] = dataset_obs['restaurant_name'].replace([\"Sarabeth's West\"], \"Sarabeth's Restaurant\")\n",
    "dataset_obs['restaurant_name'] = dataset_obs['restaurant_name'].replace([\"Blue Ribbon Sushi Bar & Grill\"], \"Blue Ribbon Sushi\")\n",
    "dataset_obs['restaurant_name'] = dataset_obs['restaurant_name'].replace([\"Blue Ribbon Sushi Izakaya\"], \"Blue Ribbon Sushi\")\n",
    "dataset_obs['restaurant_name'] = dataset_obs['restaurant_name'].replace([\"CafÌ© China\"], \"CafÌo China\")\n",
    "\n",
    "#print(dataset_obs.sort_values(by=[\"restaurant_name\"]).restaurant_name.unique())\n",
    "\n",
    "print(\" The number of the different restaurants is {}\".format(dataset_obs[\"restaurant_name\"].nunique()))"
   ]
  },
  {
   "cell_type": "markdown",
   "id": "66c588f6",
   "metadata": {},
   "source": [
    "After removing the mistakes in the spelling of some names of restaurants, the total number of restaurants is 169 (instead of 178)."
   ]
  },
  {
   "cell_type": "code",
   "execution_count": 9,
   "id": "608c180c",
   "metadata": {},
   "outputs": [
    {
     "name": "stdout",
     "output_type": "stream",
     "text": [
      " The categories of the rating variable are 4\n"
     ]
    }
   ],
   "source": [
    "# Inspection variable rating\n",
    "print(\" The categories of the rating variable are {}\".format(dataset_obs[\"rating\"].nunique())) "
   ]
  },
  {
   "cell_type": "code",
   "execution_count": 10,
   "id": "644ccf04",
   "metadata": {},
   "outputs": [
    {
     "name": "stdout",
     "output_type": "stream",
     "text": [
      "['3' '4' '5' 'Not given']\n"
     ]
    }
   ],
   "source": [
    "print(dataset_obs.sort_values(by=['rating']).rating.unique())"
   ]
  },
  {
   "cell_type": "markdown",
   "id": "8ebdac85",
   "metadata": {},
   "source": [
    "The output shows the presence of 3 categories in the rating variable (3, 4, and 5, respectively). The rating classification is according to (REF.1) that does indicate a increased positive review (from 3 till 5) from the customer. However, the output shows also the presence of an additional category rating, \"Not given\". The reasons of a \"Not given\" rating can be different, such as for instance the customer has forgot to rating the restaurant, or the rating was related to a negative review (rating from 1 till 2)."
   ]
  },
  {
   "cell_type": "code",
   "execution_count": 11,
   "id": "da9aef0b",
   "metadata": {},
   "outputs": [
    {
     "name": "stdout",
     "output_type": "stream",
     "text": [
      "Not given    736\n",
      "5            588\n",
      "4            386\n",
      "3            188\n",
      "Name: rating, dtype: int64\n"
     ]
    }
   ],
   "source": [
    "print(dataset_obs['rating'].value_counts()) \n",
    "#dataset_obs[\"rating\"].value_counts(normalize=True) * 100"
   ]
  },
  {
   "cell_type": "markdown",
   "id": "88793d55",
   "metadata": {},
   "source": [
    "Due to the huge number of observations in \"Not given\" rating category (736), it has been made the assumption to consider these values as NaN values and further to replace them with the mean of observations of each respective restaurant (assuming that the respective restaurant could have more than one observation)."
   ]
  },
  {
   "cell_type": "code",
   "execution_count": 12,
   "id": "1d561a23",
   "metadata": {},
   "outputs": [
    {
     "data": {
      "text/html": [
       "<div>\n",
       "<style scoped>\n",
       "    .dataframe tbody tr th:only-of-type {\n",
       "        vertical-align: middle;\n",
       "    }\n",
       "\n",
       "    .dataframe tbody tr th {\n",
       "        vertical-align: top;\n",
       "    }\n",
       "\n",
       "    .dataframe thead th {\n",
       "        text-align: right;\n",
       "    }\n",
       "</style>\n",
       "<table border=\"1\" class=\"dataframe\">\n",
       "  <thead>\n",
       "    <tr style=\"text-align: right;\">\n",
       "      <th></th>\n",
       "      <th>order_id</th>\n",
       "      <th>customer_id</th>\n",
       "      <th>restaurant_name</th>\n",
       "      <th>cuisine_type</th>\n",
       "      <th>cost_of_the_order</th>\n",
       "      <th>day_of_the_week</th>\n",
       "      <th>rating</th>\n",
       "      <th>food_preparation_time</th>\n",
       "      <th>delivery_time</th>\n",
       "      <th>rating_new</th>\n",
       "    </tr>\n",
       "  </thead>\n",
       "  <tbody>\n",
       "    <tr>\n",
       "      <th>0</th>\n",
       "      <td>1477147</td>\n",
       "      <td>337525</td>\n",
       "      <td>Hangawi</td>\n",
       "      <td>Korean</td>\n",
       "      <td>30.75</td>\n",
       "      <td>Weekend</td>\n",
       "      <td>Not given</td>\n",
       "      <td>25</td>\n",
       "      <td>20</td>\n",
       "      <td>NaN</td>\n",
       "    </tr>\n",
       "    <tr>\n",
       "      <th>1</th>\n",
       "      <td>1477685</td>\n",
       "      <td>358141</td>\n",
       "      <td>Blue Ribbon Sushi</td>\n",
       "      <td>Japanese</td>\n",
       "      <td>12.08</td>\n",
       "      <td>Weekend</td>\n",
       "      <td>Not given</td>\n",
       "      <td>25</td>\n",
       "      <td>23</td>\n",
       "      <td>4.309735</td>\n",
       "    </tr>\n",
       "    <tr>\n",
       "      <th>2</th>\n",
       "      <td>1477070</td>\n",
       "      <td>66393</td>\n",
       "      <td>Cafe Habana</td>\n",
       "      <td>Mexican</td>\n",
       "      <td>12.23</td>\n",
       "      <td>Weekday</td>\n",
       "      <td>5</td>\n",
       "      <td>23</td>\n",
       "      <td>28</td>\n",
       "      <td>5.000000</td>\n",
       "    </tr>\n",
       "    <tr>\n",
       "      <th>3</th>\n",
       "      <td>1477334</td>\n",
       "      <td>106968</td>\n",
       "      <td>Blue Ribbon Fried Chicken</td>\n",
       "      <td>American</td>\n",
       "      <td>29.20</td>\n",
       "      <td>Weekend</td>\n",
       "      <td>3</td>\n",
       "      <td>25</td>\n",
       "      <td>15</td>\n",
       "      <td>3.000000</td>\n",
       "    </tr>\n",
       "    <tr>\n",
       "      <th>4</th>\n",
       "      <td>1478249</td>\n",
       "      <td>76942</td>\n",
       "      <td>Dirty Bird to Go</td>\n",
       "      <td>American</td>\n",
       "      <td>11.59</td>\n",
       "      <td>Weekday</td>\n",
       "      <td>4</td>\n",
       "      <td>25</td>\n",
       "      <td>24</td>\n",
       "      <td>4.000000</td>\n",
       "    </tr>\n",
       "    <tr>\n",
       "      <th>5</th>\n",
       "      <td>1477224</td>\n",
       "      <td>147468</td>\n",
       "      <td>Tamarind TriBeCa</td>\n",
       "      <td>Indian</td>\n",
       "      <td>25.22</td>\n",
       "      <td>Weekday</td>\n",
       "      <td>3</td>\n",
       "      <td>20</td>\n",
       "      <td>24</td>\n",
       "      <td>3.000000</td>\n",
       "    </tr>\n",
       "    <tr>\n",
       "      <th>6</th>\n",
       "      <td>1477894</td>\n",
       "      <td>157711</td>\n",
       "      <td>The Meatball Shop</td>\n",
       "      <td>Italian</td>\n",
       "      <td>6.07</td>\n",
       "      <td>Weekend</td>\n",
       "      <td>Not given</td>\n",
       "      <td>28</td>\n",
       "      <td>21</td>\n",
       "      <td>4.511905</td>\n",
       "    </tr>\n",
       "    <tr>\n",
       "      <th>7</th>\n",
       "      <td>1477859</td>\n",
       "      <td>89574</td>\n",
       "      <td>Barbounia</td>\n",
       "      <td>Mediterranean</td>\n",
       "      <td>5.97</td>\n",
       "      <td>Weekday</td>\n",
       "      <td>3</td>\n",
       "      <td>33</td>\n",
       "      <td>30</td>\n",
       "      <td>3.000000</td>\n",
       "    </tr>\n",
       "    <tr>\n",
       "      <th>8</th>\n",
       "      <td>1477174</td>\n",
       "      <td>121706</td>\n",
       "      <td>Anjappar Chettinad</td>\n",
       "      <td>Indian</td>\n",
       "      <td>16.44</td>\n",
       "      <td>Weekday</td>\n",
       "      <td>5</td>\n",
       "      <td>21</td>\n",
       "      <td>26</td>\n",
       "      <td>5.000000</td>\n",
       "    </tr>\n",
       "    <tr>\n",
       "      <th>9</th>\n",
       "      <td>1477311</td>\n",
       "      <td>39705</td>\n",
       "      <td>Bukhara Grill</td>\n",
       "      <td>Indian</td>\n",
       "      <td>7.18</td>\n",
       "      <td>Weekday</td>\n",
       "      <td>5</td>\n",
       "      <td>29</td>\n",
       "      <td>26</td>\n",
       "      <td>5.000000</td>\n",
       "    </tr>\n",
       "  </tbody>\n",
       "</table>\n",
       "</div>"
      ],
      "text/plain": [
       "   order_id  customer_id            restaurant_name   cuisine_type  \\\n",
       "0   1477147       337525                    Hangawi         Korean   \n",
       "1   1477685       358141          Blue Ribbon Sushi       Japanese   \n",
       "2   1477070        66393                Cafe Habana        Mexican   \n",
       "3   1477334       106968  Blue Ribbon Fried Chicken       American   \n",
       "4   1478249        76942           Dirty Bird to Go       American   \n",
       "5   1477224       147468           Tamarind TriBeCa         Indian   \n",
       "6   1477894       157711          The Meatball Shop        Italian   \n",
       "7   1477859        89574                  Barbounia  Mediterranean   \n",
       "8   1477174       121706         Anjappar Chettinad         Indian   \n",
       "9   1477311        39705              Bukhara Grill         Indian   \n",
       "\n",
       "   cost_of_the_order day_of_the_week     rating  food_preparation_time  \\\n",
       "0              30.75         Weekend  Not given                     25   \n",
       "1              12.08         Weekend  Not given                     25   \n",
       "2              12.23         Weekday          5                     23   \n",
       "3              29.20         Weekend          3                     25   \n",
       "4              11.59         Weekday          4                     25   \n",
       "5              25.22         Weekday          3                     20   \n",
       "6               6.07         Weekend  Not given                     28   \n",
       "7               5.97         Weekday          3                     33   \n",
       "8              16.44         Weekday          5                     21   \n",
       "9               7.18         Weekday          5                     29   \n",
       "\n",
       "   delivery_time  rating_new  \n",
       "0             20         NaN  \n",
       "1             23    4.309735  \n",
       "2             28    5.000000  \n",
       "3             15    3.000000  \n",
       "4             24    4.000000  \n",
       "5             24    3.000000  \n",
       "6             21    4.511905  \n",
       "7             30    3.000000  \n",
       "8             26    5.000000  \n",
       "9             26    5.000000  "
      ]
     },
     "execution_count": 12,
     "metadata": {},
     "output_type": "execute_result"
    }
   ],
   "source": [
    "# Create a new column rating_new that does include NaN in place of 'Not given'\n",
    "dataset_obs['rating_new'] = dataset_obs['rating'].replace('Not given', np.nan).astype(float)\n",
    "\n",
    "# Imputing Nan values with mean rating of the respective restaurant\n",
    "dataset_obs['rating_new'] = dataset_obs['rating_new'].fillna(value = dataset_obs.groupby(['restaurant_name'])['rating_new'].transform('mean'))\n",
    "\n",
    "dataset_obs.head(10)\n",
    "\n",
    "#print(dataset_obs['rating_new'].value_counts()) \n",
    "#dataset_obs['rating_new'].value_counts(normalize=True) * 100"
   ]
  },
  {
   "cell_type": "markdown",
   "id": "57554683",
   "metadata": {},
   "source": [
    "The output shows that the values of the rating_new variable have decimals. Therefore, let's round the new rating array (values) to the nearest integer. Besides as it can been seen, there is still the presence of 30 NaN values (see below output) due to the absence of more than one observation for these restaurants. Therefore, let's make a further assumption to consider these 30 NaN values as missing values and drop them from the dataframe."
   ]
  },
  {
   "cell_type": "code",
   "execution_count": 13,
   "id": "0646b82f",
   "metadata": {},
   "outputs": [],
   "source": [
    "#Use of numpy.round() method to round the new rating values to the nearest integer.\n",
    "dataset_obs['rating_newww'] = np.round(dataset_obs['rating_new'], 0) "
   ]
  },
  {
   "cell_type": "code",
   "execution_count": 14,
   "id": "2dbc575d",
   "metadata": {},
   "outputs": [],
   "source": [
    "#let's convert the rating_newww from 'float' to again 'String' (object) type as it was in the original dataframe.\n",
    "dataset_obs['rating_newww'] = dataset_obs['rating_newww'].astype(str) "
   ]
  },
  {
   "cell_type": "code",
   "execution_count": 15,
   "id": "f036c0ae",
   "metadata": {},
   "outputs": [
    {
     "name": "stdout",
     "output_type": "stream",
     "text": [
      "order_id                   int64\n",
      "customer_id                int64\n",
      "restaurant_name           object\n",
      "cuisine_type              object\n",
      "cost_of_the_order        float64\n",
      "day_of_the_week           object\n",
      "rating                    object\n",
      "food_preparation_time      int64\n",
      "delivery_time              int64\n",
      "rating_new               float64\n",
      "rating_newww              object\n",
      "dtype: object\n"
     ]
    }
   ],
   "source": [
    "print(dataset_obs.dtypes)"
   ]
  },
  {
   "cell_type": "code",
   "execution_count": 16,
   "id": "52e23eb5",
   "metadata": {},
   "outputs": [
    {
     "name": "stdout",
     "output_type": "stream",
     "text": [
      "4.0    937\n",
      "5.0    735\n",
      "3.0    196\n",
      "nan     30\n",
      "Name: rating_newww, dtype: int64\n"
     ]
    }
   ],
   "source": [
    "print(dataset_obs['rating_newww'].value_counts()) "
   ]
  },
  {
   "cell_type": "code",
   "execution_count": 17,
   "id": "07b80c98",
   "metadata": {},
   "outputs": [],
   "source": [
    "# dropping the rows having NaN values\n",
    "dataset_obs = dataset_obs.dropna()"
   ]
  },
  {
   "cell_type": "code",
   "execution_count": 18,
   "id": "37fe494a",
   "metadata": {},
   "outputs": [
    {
     "name": "stdout",
     "output_type": "stream",
     "text": [
      " The categories of the rating variable are 3\n"
     ]
    }
   ],
   "source": [
    "print(\" The categories of the rating variable are {}\".format(dataset_obs[\"rating_newww\"].nunique())) "
   ]
  },
  {
   "cell_type": "code",
   "execution_count": 19,
   "id": "54abf375",
   "metadata": {},
   "outputs": [
    {
     "name": "stdout",
     "output_type": "stream",
     "text": [
      "['3.0' '4.0' '5.0']\n"
     ]
    }
   ],
   "source": [
    "print(dataset_obs.sort_values(by=['rating_newww']).rating_newww.unique())"
   ]
  },
  {
   "cell_type": "code",
   "execution_count": 20,
   "id": "e7c621d2",
   "metadata": {},
   "outputs": [
    {
     "name": "stdout",
     "output_type": "stream",
     "text": [
      "4.0    937\n",
      "5.0    735\n",
      "3.0    196\n",
      "Name: rating_newww, dtype: int64\n"
     ]
    }
   ],
   "source": [
    "print(dataset_obs['rating_newww'].value_counts()) "
   ]
  },
  {
   "cell_type": "markdown",
   "id": "316efdd3",
   "metadata": {},
   "source": [
    "Since the number of obsrvations in the Dataframe has been changed, let's have again a look at the descriptive statistics of the dataframe (and enclosed variables)."
   ]
  },
  {
   "cell_type": "code",
   "execution_count": 21,
   "id": "aba057e0",
   "metadata": {},
   "outputs": [
    {
     "name": "stdout",
     "output_type": "stream",
     "text": [
      "   order_id  customer_id            restaurant_name cuisine_type  \\\n",
      "1   1477685       358141          Blue Ribbon Sushi     Japanese   \n",
      "2   1477070        66393                Cafe Habana      Mexican   \n",
      "3   1477334       106968  Blue Ribbon Fried Chicken     American   \n",
      "4   1478249        76942           Dirty Bird to Go     American   \n",
      "5   1477224       147468           Tamarind TriBeCa       Indian   \n",
      "\n",
      "   cost_of_the_order day_of_the_week     rating  food_preparation_time  \\\n",
      "1              12.08         Weekend  Not given                     25   \n",
      "2              12.23         Weekday          5                     23   \n",
      "3              29.20         Weekend          3                     25   \n",
      "4              11.59         Weekday          4                     25   \n",
      "5              25.22         Weekday          3                     20   \n",
      "\n",
      "   delivery_time  rating_new rating_newww  \n",
      "1             23    4.309735          4.0  \n",
      "2             28    5.000000          5.0  \n",
      "3             15    3.000000          3.0  \n",
      "4             24    4.000000          4.0  \n",
      "5             24    3.000000          3.0  \n",
      "['order_id' 'customer_id' 'restaurant_name' 'cuisine_type'\n",
      " 'cost_of_the_order' 'day_of_the_week' 'rating' 'food_preparation_time'\n",
      " 'delivery_time' 'rating_new' 'rating_newww']\n",
      "<class 'pandas.core.frame.DataFrame'>\n",
      "Int64Index: 1868 entries, 1 to 1897\n",
      "Data columns (total 11 columns):\n",
      " #   Column                 Non-Null Count  Dtype  \n",
      "---  ------                 --------------  -----  \n",
      " 0   order_id               1868 non-null   int64  \n",
      " 1   customer_id            1868 non-null   int64  \n",
      " 2   restaurant_name        1868 non-null   object \n",
      " 3   cuisine_type           1868 non-null   object \n",
      " 4   cost_of_the_order      1868 non-null   float64\n",
      " 5   day_of_the_week        1868 non-null   object \n",
      " 6   rating                 1868 non-null   object \n",
      " 7   food_preparation_time  1868 non-null   int64  \n",
      " 8   delivery_time          1868 non-null   int64  \n",
      " 9   rating_new             1868 non-null   float64\n",
      " 10  rating_newww           1868 non-null   object \n",
      "dtypes: float64(2), int64(4), object(5)\n",
      "memory usage: 175.1+ KB\n"
     ]
    },
    {
     "data": {
      "text/html": [
       "<div>\n",
       "<style scoped>\n",
       "    .dataframe tbody tr th:only-of-type {\n",
       "        vertical-align: middle;\n",
       "    }\n",
       "\n",
       "    .dataframe tbody tr th {\n",
       "        vertical-align: top;\n",
       "    }\n",
       "\n",
       "    .dataframe thead th {\n",
       "        text-align: right;\n",
       "    }\n",
       "</style>\n",
       "<table border=\"1\" class=\"dataframe\">\n",
       "  <thead>\n",
       "    <tr style=\"text-align: right;\">\n",
       "      <th></th>\n",
       "      <th>order_id</th>\n",
       "      <th>customer_id</th>\n",
       "      <th>cost_of_the_order</th>\n",
       "      <th>food_preparation_time</th>\n",
       "      <th>delivery_time</th>\n",
       "      <th>rating_new</th>\n",
       "    </tr>\n",
       "  </thead>\n",
       "  <tbody>\n",
       "    <tr>\n",
       "      <th>count</th>\n",
       "      <td>1.868000e+03</td>\n",
       "      <td>1868.000000</td>\n",
       "      <td>1868.000000</td>\n",
       "      <td>1868.000000</td>\n",
       "      <td>1868.000000</td>\n",
       "      <td>1868.000000</td>\n",
       "    </tr>\n",
       "    <tr>\n",
       "      <th>mean</th>\n",
       "      <td>1.477495e+06</td>\n",
       "      <td>170801.970021</td>\n",
       "      <td>16.512195</td>\n",
       "      <td>27.361349</td>\n",
       "      <td>24.185225</td>\n",
       "      <td>4.347652</td>\n",
       "    </tr>\n",
       "    <tr>\n",
       "      <th>std</th>\n",
       "      <td>5.489092e+02</td>\n",
       "      <td>113536.338875</td>\n",
       "      <td>7.473723</td>\n",
       "      <td>4.628866</td>\n",
       "      <td>4.960147</td>\n",
       "      <td>0.608600</td>\n",
       "    </tr>\n",
       "    <tr>\n",
       "      <th>min</th>\n",
       "      <td>1.476547e+06</td>\n",
       "      <td>1311.000000</td>\n",
       "      <td>4.470000</td>\n",
       "      <td>20.000000</td>\n",
       "      <td>15.000000</td>\n",
       "      <td>3.000000</td>\n",
       "    </tr>\n",
       "    <tr>\n",
       "      <th>25%</th>\n",
       "      <td>1.477020e+06</td>\n",
       "      <td>77544.000000</td>\n",
       "      <td>12.080000</td>\n",
       "      <td>23.000000</td>\n",
       "      <td>20.000000</td>\n",
       "      <td>4.000000</td>\n",
       "    </tr>\n",
       "    <tr>\n",
       "      <th>50%</th>\n",
       "      <td>1.477492e+06</td>\n",
       "      <td>128476.500000</td>\n",
       "      <td>14.160000</td>\n",
       "      <td>27.000000</td>\n",
       "      <td>25.000000</td>\n",
       "      <td>4.309735</td>\n",
       "    </tr>\n",
       "    <tr>\n",
       "      <th>75%</th>\n",
       "      <td>1.477973e+06</td>\n",
       "      <td>270444.000000</td>\n",
       "      <td>22.272500</td>\n",
       "      <td>31.000000</td>\n",
       "      <td>28.000000</td>\n",
       "      <td>5.000000</td>\n",
       "    </tr>\n",
       "    <tr>\n",
       "      <th>max</th>\n",
       "      <td>1.478444e+06</td>\n",
       "      <td>405334.000000</td>\n",
       "      <td>35.410000</td>\n",
       "      <td>35.000000</td>\n",
       "      <td>33.000000</td>\n",
       "      <td>5.000000</td>\n",
       "    </tr>\n",
       "  </tbody>\n",
       "</table>\n",
       "</div>"
      ],
      "text/plain": [
       "           order_id    customer_id  cost_of_the_order  food_preparation_time  \\\n",
       "count  1.868000e+03    1868.000000        1868.000000            1868.000000   \n",
       "mean   1.477495e+06  170801.970021          16.512195              27.361349   \n",
       "std    5.489092e+02  113536.338875           7.473723               4.628866   \n",
       "min    1.476547e+06    1311.000000           4.470000              20.000000   \n",
       "25%    1.477020e+06   77544.000000          12.080000              23.000000   \n",
       "50%    1.477492e+06  128476.500000          14.160000              27.000000   \n",
       "75%    1.477973e+06  270444.000000          22.272500              31.000000   \n",
       "max    1.478444e+06  405334.000000          35.410000              35.000000   \n",
       "\n",
       "       delivery_time   rating_new  \n",
       "count    1868.000000  1868.000000  \n",
       "mean       24.185225     4.347652  \n",
       "std         4.960147     0.608600  \n",
       "min        15.000000     3.000000  \n",
       "25%        20.000000     4.000000  \n",
       "50%        25.000000     4.309735  \n",
       "75%        28.000000     5.000000  \n",
       "max        33.000000     5.000000  "
      ]
     },
     "execution_count": 21,
     "metadata": {},
     "output_type": "execute_result"
    }
   ],
   "source": [
    "print(dataset_obs.head(5)) # first items of the dataset\n",
    "print(dataset_obs.columns.values) #View  of the columns (varialbes) of the dataset1 \n",
    "dataset_obs.info()     #concise summary of the dataframe like the index dtype and columns, non-null values and memory usage \n",
    "dataset_obs.describe() #Simple statistics of the numnerical variables"
   ]
  },
  {
   "cell_type": "code",
   "execution_count": 22,
   "id": "9fb0fc49",
   "metadata": {},
   "outputs": [
    {
     "name": "stdout",
     "output_type": "stream",
     "text": [
      "20548\n",
      "(1868, 11)\n",
      " The number of the different restaurants is 147\n",
      " The categories of the rating variable are 3\n"
     ]
    }
   ],
   "source": [
    "size = dataset_obs.size # dataframe.size\n",
    "print(size)\n",
    "shape =dataset_obs.shape  # dataframe.shape\n",
    "print(shape)\n",
    "\n",
    "# Ri- Inspection variable restaurant_name\n",
    "print(\" The number of the different restaurants is {}\".format(dataset_obs[\"restaurant_name\"].nunique())) \n",
    "\n",
    "# Ri Inspection variable rating\n",
    "print(\" The categories of the rating variable are {}\".format(dataset_obs[\"rating_newww\"].nunique())) "
   ]
  },
  {
   "cell_type": "markdown",
   "id": "4e683225",
   "metadata": {},
   "source": [
    "To sum up, after clean up mistakes due to wrong spelling in the name of some restaurant and missing values in the rating variable, the output does show that the total number of observations has been changed from 1898 to 1868 observations, the size of the dataframe has been increase from 20548 to 17082, the \"updated\" number of restaurants is 147 and the categories of the rating variables are 3."
   ]
  },
  {
   "cell_type": "code",
   "execution_count": 23,
   "id": "d03e0448",
   "metadata": {},
   "outputs": [
    {
     "name": "stdout",
     "output_type": "stream",
     "text": [
      " The number of the different type of cuisines is 14\n"
     ]
    }
   ],
   "source": [
    "# Inspection variable cuisine_type\n",
    "print(\" The number of the different type of cuisines is {}\".format(dataset_obs[\"cuisine_type\"].nunique())) "
   ]
  },
  {
   "cell_type": "code",
   "execution_count": 24,
   "id": "62dabcd8",
   "metadata": {},
   "outputs": [
    {
     "name": "stdout",
     "output_type": "stream",
     "text": [
      "['American' 'Chinese' 'French' 'Indian' 'Italian' 'Japanese' 'Korean'\n",
      " 'Mediterranean' 'Mexican' 'Middle Eastern' 'Southern' 'Spanish' 'Thai'\n",
      " 'Vietnamese']\n"
     ]
    }
   ],
   "source": [
    "print(dataset_obs.sort_values(by=['cuisine_type']).cuisine_type.unique())"
   ]
  },
  {
   "cell_type": "markdown",
   "id": "b2ef6d3b",
   "metadata": {},
   "source": [
    "The output does show the presence of 14 categories for the cuisine variable (American, Chinese, French, Indian, Italian, Japanese, Korean, Mediterranean, Mexican, Middle Eastern, Southern, Spanish, Thai and Vietnamese). Beside, a deep inspection of the output does not show anomalies in the categories of this variable."
   ]
  },
  {
   "cell_type": "code",
   "execution_count": 25,
   "id": "63960b58",
   "metadata": {},
   "outputs": [
    {
     "name": "stdout",
     "output_type": "stream",
     "text": [
      " The number of the categories of day of week is 2\n"
     ]
    }
   ],
   "source": [
    "# Inspection variable day_of_the_week\n",
    "print(\" The number of the categories of day of week is {}\".format(dataset_obs[\"day_of_the_week\"].nunique())) "
   ]
  },
  {
   "cell_type": "code",
   "execution_count": 26,
   "id": "fa91978a",
   "metadata": {},
   "outputs": [
    {
     "name": "stdout",
     "output_type": "stream",
     "text": [
      "['Weekday' 'Weekend']\n"
     ]
    }
   ],
   "source": [
    "print(dataset_obs.sort_values(by=['day_of_the_week']).day_of_the_week.unique())"
   ]
  },
  {
   "cell_type": "markdown",
   "id": "45cab46d",
   "metadata": {},
   "source": [
    "The output does show the presence of 2 categories for the day of week variable in which the order is placed (Weekday and Weekend). Beside, a deep inspection of the output does not show anomalies in the categories of this variable."
   ]
  },
  {
   "cell_type": "markdown",
   "id": "a6b0d87e",
   "metadata": {},
   "source": [
    "VISUALISAZION OF EACH CATEGORICAL VARIABLE / UNIVARIATE ANALYSIS "
   ]
  },
  {
   "cell_type": "markdown",
   "id": "28662e88",
   "metadata": {},
   "source": [
    "Type of cuisine"
   ]
  },
  {
   "cell_type": "code",
   "execution_count": 27,
   "id": "6a322f9f",
   "metadata": {},
   "outputs": [
    {
     "name": "stdout",
     "output_type": "stream",
     "text": [
      "['American' 'Chinese' 'French' 'Indian' 'Italian' 'Japanese' 'Korean'\n",
      " 'Mediterranean' 'Mexican' 'Middle Eastern' 'Southern' 'Spanish' 'Thai'\n",
      " 'Vietnamese']\n"
     ]
    }
   ],
   "source": [
    "#variable cuisine_type\n",
    "print(dataset_obs.sort_values(by=['cuisine_type']).cuisine_type.unique())"
   ]
  },
  {
   "cell_type": "code",
   "execution_count": 28,
   "id": "307c07b2",
   "metadata": {},
   "outputs": [
    {
     "data": {
      "text/plain": [
       "cuisine_type\n",
       "American          579\n",
       "Chinese           213\n",
       "French             18\n",
       "Indian             73\n",
       "Italian           284\n",
       "Japanese          469\n",
       "Korean             11\n",
       "Mediterranean      46\n",
       "Mexican            76\n",
       "Middle Eastern     49\n",
       "Southern           17\n",
       "Spanish            12\n",
       "Thai               14\n",
       "Vietnamese          7\n",
       "dtype: int64"
      ]
     },
     "execution_count": 28,
     "metadata": {},
     "output_type": "execute_result"
    }
   ],
   "source": [
    "dataset_obs.sort_values(by=['cuisine_type']).groupby(\"cuisine_type\").size() #The number of obs for each category of type cuisine\n",
    "#dataset_obs[\"cuisine_type\"].value_counts(normalize=True) * 100"
   ]
  },
  {
   "cell_type": "code",
   "execution_count": 29,
   "id": "157f2888",
   "metadata": {},
   "outputs": [
    {
     "data": {
      "image/png": "[encoded data removed]",
      "text/plain": [
       "<Figure size 720x576 with 1 Axes>"
      ]
     },
     "metadata": {
      "needs_background": "light"
     },
     "output_type": "display_data"
    },
    {
     "data": {
      "text/plain": [
       "<Figure size 432x288 with 0 Axes>"
      ]
     },
     "metadata": {},
     "output_type": "display_data"
    }
   ],
   "source": [
    "#Barplot of the countcategory cuisine_type variable \n",
    "plt.figure(figsize=(10,8))\n",
    "name_cuisine = ['American', 'Chinese', 'French', 'Indian', 'Italian', 'Japanese', 'Korean', 'Mediterranean', 'Mexican',\n",
    "                'Middle Eastern', 'Southern', 'Spanish', 'Thai', 'Vietnamese']\n",
    "\n",
    "num_obs_cuisine = [579, 213, 18, 73, 284, 469, 11, 46, 76, 49, 17, 12, 14, 7] \n",
    "\n",
    "plt.bar(range(len(name_cuisine)), num_obs_cuisine) # Make the bars plot \n",
    "\n",
    "# Add title and label to  the x and y-axis \n",
    "plt.xticks(rotation=90)\n",
    "plt.title('Distribution of order count per different categories cuisines')\n",
    "plt.xlabel('Categories cuisine')\n",
    "plt.ylabel('Count order')\n",
    "ax = plt.subplot()\n",
    "ax.set_xticks(range(14))\n",
    "ax.set_xticklabels(name_cuisine)\n",
    "\n",
    "plt.savefig('Fig1.png') #Save the plot in png format \n",
    "plt.show()\n",
    "plt.clf()"
   ]
  },
  {
   "cell_type": "markdown",
   "id": "fdf6589d",
   "metadata": {},
   "source": [
    "The plot does diplay that the American cuisine show the highest percentages of orders by the customers (31,0%), followed by the Japanes, the Italian and Chinese cuisines (25,1%, 15.2% and 11.4% respectively). On the other side, the Spanish, the Korean and Vietmanese cuisine seem to have the lowest number of orders by the customrs (0.6%, 0.6% and 0.4%, respectively). "
   ]
  },
  {
   "cell_type": "markdown",
   "id": "4ccbe513",
   "metadata": {},
   "source": [
    "Day of week "
   ]
  },
  {
   "cell_type": "code",
   "execution_count": 30,
   "id": "f32ecec3",
   "metadata": {},
   "outputs": [
    {
     "name": "stdout",
     "output_type": "stream",
     "text": [
      "['Weekday' 'Weekend']\n"
     ]
    }
   ],
   "source": [
    "print(dataset_obs.sort_values(by=['day_of_the_week']).day_of_the_week.unique())"
   ]
  },
  {
   "cell_type": "code",
   "execution_count": 31,
   "id": "a493dbfa",
   "metadata": {},
   "outputs": [
    {
     "data": {
      "text/plain": [
       "Weekend    70.931478\n",
       "Weekday    29.068522\n",
       "Name: day_of_the_week, dtype: float64"
      ]
     },
     "execution_count": 31,
     "metadata": {},
     "output_type": "execute_result"
    }
   ],
   "source": [
    "#print(dataset_obs[\"day_of_the_week\"].value_counts()) \n",
    "dataset_obs[\"day_of_the_week\"].value_counts(normalize=True) * 100  #The % of obs for each category of day of week"
   ]
  },
  {
   "cell_type": "code",
   "execution_count": 32,
   "id": "746cf7dd",
   "metadata": {},
   "outputs": [
    {
     "data": {
      "image/png": "[encoded data removed]",
      "text/plain": [
       "<Figure size 720x576 with 1 Axes>"
      ]
     },
     "metadata": {},
     "output_type": "display_data"
    },
    {
     "data": {
      "text/plain": [
       "<Figure size 432x288 with 0 Axes>"
      ]
     },
     "metadata": {},
     "output_type": "display_data"
    }
   ],
   "source": [
    "#Display plot of the distribution of orders per different days of week  \n",
    "plt.figure(figsize=(10,8))\n",
    "species_category_week = ['Weekend', 'Weekday']\n",
    "species_category_freqs = [70.93, 29.07]\n",
    "# Make the pie chart \n",
    "plt.pie(species_category_freqs, autopct = '%0.1f%%')  #Enclose the percentange to each slice \n",
    "plt.axis('equal')\n",
    "plt.legend(species_category_week, loc=0) # Enclose a legend to the plot \n",
    "plt.title('Distribution of orders per days of week') \n",
    "plt.savefig('Fig2.png')  #Save the plot in png format \n",
    "plt.show()\n",
    "plt.clf()"
   ]
  },
  {
   "cell_type": "markdown",
   "id": "0c8a4587",
   "metadata": {},
   "source": [
    "The plot does diplay that the food orders are mainly made by the customers in the weekend than during the other days of the week (70,9%, 29.1%, respectively). "
   ]
  },
  {
   "cell_type": "markdown",
   "id": "21604584",
   "metadata": {},
   "source": [
    "Rating"
   ]
  },
  {
   "cell_type": "code",
   "execution_count": 33,
   "id": "983843ee",
   "metadata": {},
   "outputs": [
    {
     "name": "stdout",
     "output_type": "stream",
     "text": [
      "['3.0' '4.0' '5.0']\n"
     ]
    }
   ],
   "source": [
    "print(dataset_obs.sort_values(by=['rating_newww']).rating_newww.unique())"
   ]
  },
  {
   "cell_type": "code",
   "execution_count": null,
   "id": "7644dca6",
   "metadata": {},
   "outputs": [],
   "source": [
    "#dataset_obs[\"rating_newww\"].value_counts(normalize=True) * 100"
   ]
  },
  {
   "cell_type": "code",
   "execution_count": 34,
   "id": "8ce2ed4a",
   "metadata": {},
   "outputs": [
    {
     "data": {
      "text/plain": [
       "rating_newww\n",
       "3.0    196\n",
       "4.0    937\n",
       "5.0    735\n",
       "dtype: int64"
      ]
     },
     "execution_count": 34,
     "metadata": {},
     "output_type": "execute_result"
    }
   ],
   "source": [
    "dataset_obs.sort_values(by=['rating_newww']).groupby(\"rating_newww\").size()"
   ]
  },
  {
   "cell_type": "code",
   "execution_count": 35,
   "id": "969c07f1",
   "metadata": {},
   "outputs": [
    {
     "data": {
      "image/png": "[encoded data removed]",
      "text/plain": [
       "<Figure size 720x576 with 1 Axes>"
      ]
     },
     "metadata": {
      "needs_background": "light"
     },
     "output_type": "display_data"
    },
    {
     "data": {
      "text/plain": [
       "<Figure size 432x288 with 0 Axes>"
      ]
     },
     "metadata": {},
     "output_type": "display_data"
    }
   ],
   "source": [
    "#Barplot of the countcategory in the rating variable \n",
    "plt.figure(figsize=(10,8))\n",
    "name_rating = ['rating 3', 'rating 4', 'rating 5']\n",
    "\n",
    "num_obs_rating = [196, 937, 735] \n",
    "\n",
    "plt.bar(range(len(name_rating)), num_obs_rating) # Make the plot\n",
    "# Add title and label to  the x and y-axis \n",
    "plt.xticks(rotation=45)\n",
    "plt.title('Distribution of order count per different categories rating')\n",
    "plt.xlabel('Categories rating')\n",
    "plt.ylabel('Count order')\n",
    "ax = plt.subplot()\n",
    "ax.set_xticks(range(3))\n",
    "ax.set_xticklabels(name_rating)\n",
    "\n",
    "plt.savefig('Fig3.png')  #Save the plot in png format \n",
    "plt.show()\n",
    "plt.clf()"
   ]
  },
  {
   "cell_type": "markdown",
   "id": "4302ad08",
   "metadata": {},
   "source": [
    "The plot shows that rating 4 has the highest percentage, followed by rating 5 and last rating 3 (50.1%, 30.3% and 10.5%, respectively)."
   ]
  },
  {
   "cell_type": "markdown",
   "id": "dacaf636",
   "metadata": {},
   "source": []
  },
  {
   "cell_type": "markdown",
   "id": "755c2d77",
   "metadata": {},
   "source": [
    "VISUALISAZION OF EACH NUMERICAL VARIABLES / UNIVARIATE ANALYSIS"
   ]
  },
  {
   "cell_type": "code",
   "execution_count": 36,
   "id": "1db6d33f",
   "metadata": {},
   "outputs": [
    {
     "name": "stdout",
     "output_type": "stream",
     "text": [
      " The number of the order ids is 1868\n"
     ]
    }
   ],
   "source": [
    "# Inspection variable order id \n",
    "print(\" The number of the order ids is {}\".format(dataset_obs[\"order_id\"].nunique())) "
   ]
  },
  {
   "cell_type": "code",
   "execution_count": 37,
   "id": "1786f733",
   "metadata": {},
   "outputs": [
    {
     "name": "stdout",
     "output_type": "stream",
     "text": [
      " The number of the customer ids is 1183\n"
     ]
    }
   ],
   "source": [
    "# Inspection variable customer id \n",
    "print(\" The number of the customer ids is {}\".format(dataset_obs[\"customer_id\"].nunique())) "
   ]
  },
  {
   "cell_type": "markdown",
   "id": "cbf18f2e",
   "metadata": {},
   "source": [
    "The output shows that there are 1183 unique customers in the given Dataframe."
   ]
  },
  {
   "cell_type": "code",
   "execution_count": 38,
   "id": "4a2ac2e8",
   "metadata": {},
   "outputs": [
    {
     "data": {
      "text/html": [
       "<div>\n",
       "<style scoped>\n",
       "    .dataframe tbody tr th:only-of-type {\n",
       "        vertical-align: middle;\n",
       "    }\n",
       "\n",
       "    .dataframe tbody tr th {\n",
       "        vertical-align: top;\n",
       "    }\n",
       "\n",
       "    .dataframe thead th {\n",
       "        text-align: right;\n",
       "    }\n",
       "</style>\n",
       "<table border=\"1\" class=\"dataframe\">\n",
       "  <thead>\n",
       "    <tr style=\"text-align: right;\">\n",
       "      <th></th>\n",
       "      <th>order_id</th>\n",
       "      <th>customer_id</th>\n",
       "      <th>cost_of_the_order</th>\n",
       "      <th>food_preparation_time</th>\n",
       "      <th>delivery_time</th>\n",
       "      <th>rating_new</th>\n",
       "    </tr>\n",
       "  </thead>\n",
       "  <tbody>\n",
       "    <tr>\n",
       "      <th>count</th>\n",
       "      <td>1.868000e+03</td>\n",
       "      <td>1868.000000</td>\n",
       "      <td>1868.000000</td>\n",
       "      <td>1868.000000</td>\n",
       "      <td>1868.000000</td>\n",
       "      <td>1868.000000</td>\n",
       "    </tr>\n",
       "    <tr>\n",
       "      <th>mean</th>\n",
       "      <td>1.477495e+06</td>\n",
       "      <td>170801.970021</td>\n",
       "      <td>16.512195</td>\n",
       "      <td>27.361349</td>\n",
       "      <td>24.185225</td>\n",
       "      <td>4.347652</td>\n",
       "    </tr>\n",
       "    <tr>\n",
       "      <th>std</th>\n",
       "      <td>5.489092e+02</td>\n",
       "      <td>113536.338875</td>\n",
       "      <td>7.473723</td>\n",
       "      <td>4.628866</td>\n",
       "      <td>4.960147</td>\n",
       "      <td>0.608600</td>\n",
       "    </tr>\n",
       "    <tr>\n",
       "      <th>min</th>\n",
       "      <td>1.476547e+06</td>\n",
       "      <td>1311.000000</td>\n",
       "      <td>4.470000</td>\n",
       "      <td>20.000000</td>\n",
       "      <td>15.000000</td>\n",
       "      <td>3.000000</td>\n",
       "    </tr>\n",
       "    <tr>\n",
       "      <th>25%</th>\n",
       "      <td>1.477020e+06</td>\n",
       "      <td>77544.000000</td>\n",
       "      <td>12.080000</td>\n",
       "      <td>23.000000</td>\n",
       "      <td>20.000000</td>\n",
       "      <td>4.000000</td>\n",
       "    </tr>\n",
       "    <tr>\n",
       "      <th>50%</th>\n",
       "      <td>1.477492e+06</td>\n",
       "      <td>128476.500000</td>\n",
       "      <td>14.160000</td>\n",
       "      <td>27.000000</td>\n",
       "      <td>25.000000</td>\n",
       "      <td>4.309735</td>\n",
       "    </tr>\n",
       "    <tr>\n",
       "      <th>75%</th>\n",
       "      <td>1.477973e+06</td>\n",
       "      <td>270444.000000</td>\n",
       "      <td>22.272500</td>\n",
       "      <td>31.000000</td>\n",
       "      <td>28.000000</td>\n",
       "      <td>5.000000</td>\n",
       "    </tr>\n",
       "    <tr>\n",
       "      <th>max</th>\n",
       "      <td>1.478444e+06</td>\n",
       "      <td>405334.000000</td>\n",
       "      <td>35.410000</td>\n",
       "      <td>35.000000</td>\n",
       "      <td>33.000000</td>\n",
       "      <td>5.000000</td>\n",
       "    </tr>\n",
       "  </tbody>\n",
       "</table>\n",
       "</div>"
      ],
      "text/plain": [
       "           order_id    customer_id  cost_of_the_order  food_preparation_time  \\\n",
       "count  1.868000e+03    1868.000000        1868.000000            1868.000000   \n",
       "mean   1.477495e+06  170801.970021          16.512195              27.361349   \n",
       "std    5.489092e+02  113536.338875           7.473723               4.628866   \n",
       "min    1.476547e+06    1311.000000           4.470000              20.000000   \n",
       "25%    1.477020e+06   77544.000000          12.080000              23.000000   \n",
       "50%    1.477492e+06  128476.500000          14.160000              27.000000   \n",
       "75%    1.477973e+06  270444.000000          22.272500              31.000000   \n",
       "max    1.478444e+06  405334.000000          35.410000              35.000000   \n",
       "\n",
       "       delivery_time   rating_new  \n",
       "count    1868.000000  1868.000000  \n",
       "mean       24.185225     4.347652  \n",
       "std         4.960147     0.608600  \n",
       "min        15.000000     3.000000  \n",
       "25%        20.000000     4.000000  \n",
       "50%        25.000000     4.309735  \n",
       "75%        28.000000     5.000000  \n",
       "max        33.000000     5.000000  "
      ]
     },
     "execution_count": 38,
     "metadata": {},
     "output_type": "execute_result"
    }
   ],
   "source": [
    "#Overview of summary statistics of the numerical variables.\n",
    "dataset_obs.describe() "
   ]
  },
  {
   "cell_type": "markdown",
   "id": "464ec93d",
   "metadata": {},
   "source": [
    "The table diplays the descriptive statistics of the three numerical variables: cost of orders, food preparation, and delivery time. Graphical plots of these variables does allow visuaaly to get a more insight in the descriptive statistics. "
   ]
  },
  {
   "cell_type": "code",
   "execution_count": 39,
   "id": "aaf750fe",
   "metadata": {},
   "outputs": [
    {
     "data": {
      "image/png": "[encoded data removed]",
      "text/plain": [
       "<Figure size 576x360 with 1 Axes>"
      ]
     },
     "metadata": {
      "needs_background": "light"
     },
     "output_type": "display_data"
    },
    {
     "data": {
      "text/plain": [
       "<Figure size 432x288 with 0 Axes>"
      ]
     },
     "metadata": {},
     "output_type": "display_data"
    },
    {
     "data": {
      "image/png": "[encoded data removed]",
      "text/plain": [
       "<Figure size 720x576 with 1 Axes>"
      ]
     },
     "metadata": {
      "needs_background": "light"
     },
     "output_type": "display_data"
    },
    {
     "data": {
      "text/plain": [
       "<Figure size 432x288 with 0 Axes>"
      ]
     },
     "metadata": {},
     "output_type": "display_data"
    }
   ],
   "source": [
    "#Boxplot for cost of order\n",
    "plt.figure(figsize=(8,5))\n",
    "sns.boxplot(data=dataset_obs, x='cost_of_the_order')\n",
    "plt.xlabel('Cost ($)')\n",
    "plt.title('Boxplot of Cost of the Order')\n",
    "plt.savefig('Fig4.png')  #Save the plot in png format \n",
    "plt.show()\n",
    "plt.clf()\n",
    "\n",
    "\n",
    "# Histogram for cost of order\n",
    "plt.figure(figsize=(10,8))\n",
    "sns.histplot(dataset_obs.cost_of_the_order)\n",
    "plt.xlabel(' Cost food order ($)')\n",
    "plt.ylabel('Order Count')\n",
    "plt.title('Distribution of cost of the food order ($)')  #Enclose the title in the plot\n",
    "\n",
    "plt.savefig('Fig5.png')   #Save the figure in png format \n",
    "plt.show()\n",
    "plt.clf()"
   ]
  },
  {
   "cell_type": "code",
   "execution_count": 40,
   "id": "260cee2f",
   "metadata": {},
   "outputs": [
    {
     "data": {
      "image/png": "[encoded data removed]",
      "text/plain": [
       "<Figure size 576x360 with 1 Axes>"
      ]
     },
     "metadata": {
      "needs_background": "light"
     },
     "output_type": "display_data"
    },
    {
     "data": {
      "text/plain": [
       "<Figure size 432x288 with 0 Axes>"
      ]
     },
     "metadata": {},
     "output_type": "display_data"
    },
    {
     "data": {
      "image/png": "[encoded data removed]",
      "text/plain": [
       "<Figure size 720x576 with 1 Axes>"
      ]
     },
     "metadata": {
      "needs_background": "light"
     },
     "output_type": "display_data"
    },
    {
     "data": {
      "text/plain": [
       "<Figure size 432x288 with 0 Axes>"
      ]
     },
     "metadata": {},
     "output_type": "display_data"
    }
   ],
   "source": [
    "#Boxplot for food preparation time \n",
    "plt.figure(figsize=(8,5))\n",
    "sns.boxplot(data=dataset_obs, x='food_preparation_time')\n",
    "plt.xlabel('Preparation food (minutes)')\n",
    "plt.title('Boxplot Preparation food')\n",
    "plt.savefig('Fig6.png') #Save the plot in png format \n",
    "plt.show()\n",
    "plt.clf()\n",
    "\n",
    "# Histogram for cost of order\n",
    "plt.figure(figsize=(10,8))\n",
    "sns.histplot(dataset_obs.food_preparation_time)\n",
    "plt.xlabel('Preparation food (minutes)')\n",
    "plt.ylabel('Order Count')\n",
    "plt.title('Distribution of preparation food order')  #Enclose the title in the plot\n",
    "\n",
    "plt.savefig('Fig7.png')   #Save the figure in png format \n",
    "plt.show()\n",
    "plt.clf()"
   ]
  },
  {
   "cell_type": "code",
   "execution_count": 41,
   "id": "f7356b4e",
   "metadata": {},
   "outputs": [
    {
     "data": {
      "image/png": "[encoded data removed]",
      "text/plain": [
       "<Figure size 576x360 with 1 Axes>"
      ]
     },
     "metadata": {
      "needs_background": "light"
     },
     "output_type": "display_data"
    },
    {
     "data": {
      "text/plain": [
       "<Figure size 432x288 with 0 Axes>"
      ]
     },
     "metadata": {},
     "output_type": "display_data"
    },
    {
     "data": {
      "image/png": "[encoded data removed]",
      "text/plain": [
       "<Figure size 720x576 with 1 Axes>"
      ]
     },
     "metadata": {
      "needs_background": "light"
     },
     "output_type": "display_data"
    },
    {
     "data": {
      "text/plain": [
       "<Figure size 432x288 with 0 Axes>"
      ]
     },
     "metadata": {},
     "output_type": "display_data"
    }
   ],
   "source": [
    "#Boxplot for delivery_time \n",
    "plt.figure(figsize=(8,5))\n",
    "sns.boxplot(data=dataset_obs, x='delivery_time')\n",
    "plt.xlabel('Delivery time (minutes)')\n",
    "plt.title('Boxplot Delivery time')\n",
    "plt.savefig('Fig8.png') #Save the plot in png format \n",
    "plt.show()\n",
    "plt.clf()\n",
    "\n",
    "# Histogram for delivery_time \n",
    "plt.figure(figsize=(10,8))\n",
    "sns.histplot(dataset_obs.delivery_time)\n",
    "plt.xlabel('Delivery Time (minutes)')\n",
    "plt.ylabel('Order Count')\n",
    "plt.title('Distribution of delivery time food order')  #Enclose the title in the plot\n",
    "\n",
    "plt.savefig('Fig9.png')   #Save the figure in png format \n",
    "plt.show()\n",
    "plt.clf()"
   ]
  },
  {
   "cell_type": "markdown",
   "id": "b1cd4dd9",
   "metadata": {},
   "source": [
    "VISUALISAZION OF CATEGORICAL AND NUMERICAL VARIABLES / BIVARIATE ANALYSIS"
   ]
  },
  {
   "cell_type": "markdown",
   "id": "b6b296c9",
   "metadata": {},
   "source": [
    "Visualisation of the most 5 top restaurants"
   ]
  },
  {
   "cell_type": "code",
   "execution_count": 42,
   "id": "37364204",
   "metadata": {},
   "outputs": [
    {
     "data": {
      "text/plain": [
       "Shake Shack                  219\n",
       "Blue Ribbon Sushi            192\n",
       "The Meatball Shop            132\n",
       "Blue Ribbon Fried Chicken     96\n",
       "Sushi of Gari                 77\n",
       "Name: restaurant_name, dtype: int64"
      ]
     },
     "execution_count": 42,
     "metadata": {},
     "output_type": "execute_result"
    }
   ],
   "source": [
    "# Displaying the top 5 restaurants\n",
    "dataset_obs['restaurant_name'].value_counts().iloc[0:5]"
   ]
  },
  {
   "cell_type": "code",
   "execution_count": 43,
   "id": "dd88a4ae",
   "metadata": {},
   "outputs": [
    {
     "data": {
      "image/png": "[encoded data removed]",
      "text/plain": [
       "<Figure size 720x576 with 1 Axes>"
      ]
     },
     "metadata": {
      "needs_background": "light"
     },
     "output_type": "display_data"
    },
    {
     "data": {
      "text/plain": [
       "<Figure size 432x288 with 0 Axes>"
      ]
     },
     "metadata": {},
     "output_type": "display_data"
    }
   ],
   "source": [
    "#Barplot of the countcategory of the 5 top restaurants\n",
    "plt.figure(figsize=(10,8))\n",
    "name_restaurant = ['Shake Shack', 'Blue Ribbon Sushi', 'The Meatball Shop', 'Blue Ribbon Fried Chicken', 'Sushi of Gari']\n",
    "num_obs_restaurant = [219, 192, 132, 96, 77]\n",
    "    \n",
    "plt.bar(range(len(name_restaurant)), num_obs_restaurant) # Make the bars plot \n",
    "\n",
    "# Add title and label to  the x and y-axis \n",
    "plt.xticks(rotation=90)\n",
    "plt.title('Distribution of order count for the top 5 restaurants')\n",
    "plt.xlabel('Restaurants')\n",
    "plt.ylabel('Count order')\n",
    "ax = plt.subplot()\n",
    "ax.set_xticks(range(5))\n",
    "ax.set_xticklabels(name_restaurant)\n",
    "\n",
    "plt.savefig('Fig10.png') #Save the plot in png format \n",
    "plt.show()\n",
    "plt.clf()"
   ]
  },
  {
   "cell_type": "markdown",
   "id": "fd974f49",
   "metadata": {},
   "source": [
    "Visualisation of the most popular cuisine category on weekends and weekday"
   ]
  },
  {
   "cell_type": "code",
   "execution_count": 44,
   "id": "4330fc6a",
   "metadata": {},
   "outputs": [
    {
     "data": {
      "text/plain": [
       "cuisine_type\n",
       "American          410\n",
       "Chinese           162\n",
       "French             13\n",
       "Indian             49\n",
       "Italian           195\n",
       "Japanese          334\n",
       "Korean              9\n",
       "Mediterranean      32\n",
       "Mexican            52\n",
       "Middle Eastern     32\n",
       "Southern           11\n",
       "Spanish            11\n",
       "Thai               11\n",
       "Vietnamese          4\n",
       "dtype: int64"
      ]
     },
     "execution_count": 44,
     "metadata": {},
     "output_type": "execute_result"
    }
   ],
   "source": [
    "dataset_obs[dataset_obs.day_of_the_week == 'Weekend'].sort_values(by=['cuisine_type']).groupby(\"cuisine_type\").size()"
   ]
  },
  {
   "cell_type": "code",
   "execution_count": 45,
   "id": "71df3c70",
   "metadata": {},
   "outputs": [
    {
     "data": {
      "text/plain": [
       "cuisine_type\n",
       "American          169\n",
       "Chinese            51\n",
       "French              5\n",
       "Indian             24\n",
       "Italian            89\n",
       "Japanese          135\n",
       "Korean              2\n",
       "Mediterranean      14\n",
       "Mexican            24\n",
       "Middle Eastern     17\n",
       "Southern            6\n",
       "Spanish             1\n",
       "Thai                3\n",
       "Vietnamese          3\n",
       "dtype: int64"
      ]
     },
     "execution_count": 45,
     "metadata": {},
     "output_type": "execute_result"
    }
   ],
   "source": [
    "dataset_obs[dataset_obs.day_of_the_week == 'Weekday'].sort_values(by=['cuisine_type']).groupby(\"cuisine_type\").size()"
   ]
  },
  {
   "cell_type": "code",
   "execution_count": 46,
   "id": "65812adb",
   "metadata": {},
   "outputs": [
    {
     "data": {
      "image/png": "[encoded data removed]",
      "text/plain": [
       "<Figure size 720x576 with 1 Axes>"
      ]
     },
     "metadata": {
      "needs_background": "light"
     },
     "output_type": "display_data"
    }
   ],
   "source": [
    "# Plot distribution of order per restaurants during weekend and weekday\n",
    "name_cuisine = ['American', 'Chinese', 'French', 'Indian', 'Italian', 'Japanese', 'Korean', 'Mediterranean', 'Mexican',\n",
    "                'Middle Eastern', 'Southern', 'Spanish', 'Thai', 'Vietnamese']\n",
    "weekend_c = [410, 162, 13, 49, 195, 334, 9, 32, 52, 32, 11, 11, 11, 4]\n",
    "weekday_c = [169, 51, 5, 24, 89, 135, 2, 14, 24, 17, 6, 1, 3, 3]\n",
    "\n",
    "def create_x(t, w, n, d):\n",
    "    return [t*x + w*n for x in range(d)]\n",
    "\n",
    "#Making the first required plot \n",
    "n=1\n",
    "t=2\n",
    "d=14\n",
    "w=0.8\n",
    "weekend_c_x = [t*x + w*n for x in range(d)]\n",
    "\n",
    "# Making the second plot\n",
    "n=2\n",
    "t=2\n",
    "d=14\n",
    "w=0.8\n",
    "weekday_c_x = [t*x + w*n for x in range(d)]\n",
    "\n",
    "plt.figure(figsize=(10,8))  #Make figure with the required dimensions\n",
    "\n",
    "ax= plt.subplot() #Set up the set of axes\n",
    "\n",
    "# Make the bars plot \n",
    "plt.bar(weekend_c_x, weekend_c, color='grey')\n",
    "plt.bar(weekday_c_x, weekday_c, color='black')\n",
    "\n",
    "# Refine and label the x-axis \n",
    "middle_x = [(a+b) / 2.0 for a,b in zip(weekend_c_x, weekday_c_x)]\n",
    "ax.set_xticks(middle_x)\n",
    "ax.set_xticklabels(name_cuisine, rotation=45)\n",
    "\n",
    "# Enclose a legend to the plot \n",
    "legend_labels = ['Weekends', 'Weekdayss']\n",
    "plt.legend(legend_labels, loc=1)\n",
    "\n",
    "# Add title and label to  the x and y-axis \n",
    "plt.title('Order per categories of cousine on different days')\n",
    "plt.xlabel('Categories cuisine')\n",
    "plt.xticks(rotation=90)\n",
    "plt.ylabel('Order counts')\n",
    "\n",
    "plt.savefig('Fig11.png')  #Save the plot in png format \n",
    "plt.show()\n"
   ]
  },
  {
   "cell_type": "markdown",
   "id": "0bec16fb",
   "metadata": {},
   "source": [
    "The plot shows that the highest percentages of orders of American, Japanes, the Italian and Chinese cuisines are located mainly in the weekend than in the weekday. "
   ]
  },
  {
   "cell_type": "code",
   "execution_count": 47,
   "id": "e2f28e03",
   "metadata": {},
   "outputs": [
    {
     "data": {
      "text/html": [
       "<div>\n",
       "<style scoped>\n",
       "    .dataframe tbody tr th:only-of-type {\n",
       "        vertical-align: middle;\n",
       "    }\n",
       "\n",
       "    .dataframe tbody tr th {\n",
       "        vertical-align: top;\n",
       "    }\n",
       "\n",
       "    .dataframe thead tr th {\n",
       "        text-align: left;\n",
       "    }\n",
       "\n",
       "    .dataframe thead tr:last-of-type th {\n",
       "        text-align: right;\n",
       "    }\n",
       "</style>\n",
       "<table border=\"1\" class=\"dataframe\">\n",
       "  <thead>\n",
       "    <tr>\n",
       "      <th></th>\n",
       "      <th colspan=\"8\" halign=\"left\">order_id</th>\n",
       "      <th colspan=\"2\" halign=\"left\">customer_id</th>\n",
       "      <th>...</th>\n",
       "      <th colspan=\"2\" halign=\"left\">delivery_time</th>\n",
       "      <th colspan=\"8\" halign=\"left\">rating_new</th>\n",
       "    </tr>\n",
       "    <tr>\n",
       "      <th></th>\n",
       "      <th>count</th>\n",
       "      <th>mean</th>\n",
       "      <th>std</th>\n",
       "      <th>min</th>\n",
       "      <th>25%</th>\n",
       "      <th>50%</th>\n",
       "      <th>75%</th>\n",
       "      <th>max</th>\n",
       "      <th>count</th>\n",
       "      <th>mean</th>\n",
       "      <th>...</th>\n",
       "      <th>75%</th>\n",
       "      <th>max</th>\n",
       "      <th>count</th>\n",
       "      <th>mean</th>\n",
       "      <th>std</th>\n",
       "      <th>min</th>\n",
       "      <th>25%</th>\n",
       "      <th>50%</th>\n",
       "      <th>75%</th>\n",
       "      <th>max</th>\n",
       "    </tr>\n",
       "    <tr>\n",
       "      <th>cuisine_type</th>\n",
       "      <th></th>\n",
       "      <th></th>\n",
       "      <th></th>\n",
       "      <th></th>\n",
       "      <th></th>\n",
       "      <th></th>\n",
       "      <th></th>\n",
       "      <th></th>\n",
       "      <th></th>\n",
       "      <th></th>\n",
       "      <th></th>\n",
       "      <th></th>\n",
       "      <th></th>\n",
       "      <th></th>\n",
       "      <th></th>\n",
       "      <th></th>\n",
       "      <th></th>\n",
       "      <th></th>\n",
       "      <th></th>\n",
       "      <th></th>\n",
       "      <th></th>\n",
       "    </tr>\n",
       "  </thead>\n",
       "  <tbody>\n",
       "    <tr>\n",
       "      <th>American</th>\n",
       "      <td>579.0</td>\n",
       "      <td>1.477489e+06</td>\n",
       "      <td>549.131617</td>\n",
       "      <td>1476547.0</td>\n",
       "      <td>1477011.50</td>\n",
       "      <td>1477466.0</td>\n",
       "      <td>1477980.00</td>\n",
       "      <td>1478444.0</td>\n",
       "      <td>579.0</td>\n",
       "      <td>183512.281520</td>\n",
       "      <td>...</td>\n",
       "      <td>28.00</td>\n",
       "      <td>33.0</td>\n",
       "      <td>579.0</td>\n",
       "      <td>4.285867</td>\n",
       "      <td>0.616549</td>\n",
       "      <td>3.0</td>\n",
       "      <td>4.000000</td>\n",
       "      <td>4.278195</td>\n",
       "      <td>5.000000</td>\n",
       "      <td>5.0</td>\n",
       "    </tr>\n",
       "    <tr>\n",
       "      <th>Chinese</th>\n",
       "      <td>213.0</td>\n",
       "      <td>1.477526e+06</td>\n",
       "      <td>545.152227</td>\n",
       "      <td>1476588.0</td>\n",
       "      <td>1477067.00</td>\n",
       "      <td>1477523.0</td>\n",
       "      <td>1477973.00</td>\n",
       "      <td>1478441.0</td>\n",
       "      <td>213.0</td>\n",
       "      <td>181173.436620</td>\n",
       "      <td>...</td>\n",
       "      <td>28.00</td>\n",
       "      <td>33.0</td>\n",
       "      <td>213.0</td>\n",
       "      <td>4.355247</td>\n",
       "      <td>0.624646</td>\n",
       "      <td>3.0</td>\n",
       "      <td>4.000000</td>\n",
       "      <td>4.285714</td>\n",
       "      <td>5.000000</td>\n",
       "      <td>5.0</td>\n",
       "    </tr>\n",
       "    <tr>\n",
       "      <th>French</th>\n",
       "      <td>18.0</td>\n",
       "      <td>1.477438e+06</td>\n",
       "      <td>529.935130</td>\n",
       "      <td>1476754.0</td>\n",
       "      <td>1476929.50</td>\n",
       "      <td>1477551.0</td>\n",
       "      <td>1477794.75</td>\n",
       "      <td>1478349.0</td>\n",
       "      <td>18.0</td>\n",
       "      <td>158138.722222</td>\n",
       "      <td>...</td>\n",
       "      <td>28.75</td>\n",
       "      <td>29.0</td>\n",
       "      <td>18.0</td>\n",
       "      <td>4.277778</td>\n",
       "      <td>0.601197</td>\n",
       "      <td>3.0</td>\n",
       "      <td>4.050000</td>\n",
       "      <td>4.200000</td>\n",
       "      <td>4.833333</td>\n",
       "      <td>5.0</td>\n",
       "    </tr>\n",
       "    <tr>\n",
       "      <th>Indian</th>\n",
       "      <td>73.0</td>\n",
       "      <td>1.477493e+06</td>\n",
       "      <td>563.977503</td>\n",
       "      <td>1476549.0</td>\n",
       "      <td>1477080.00</td>\n",
       "      <td>1477530.0</td>\n",
       "      <td>1477938.00</td>\n",
       "      <td>1478436.0</td>\n",
       "      <td>73.0</td>\n",
       "      <td>162106.397260</td>\n",
       "      <td>...</td>\n",
       "      <td>29.00</td>\n",
       "      <td>32.0</td>\n",
       "      <td>73.0</td>\n",
       "      <td>4.561644</td>\n",
       "      <td>0.577742</td>\n",
       "      <td>3.0</td>\n",
       "      <td>4.000000</td>\n",
       "      <td>5.000000</td>\n",
       "      <td>5.000000</td>\n",
       "      <td>5.0</td>\n",
       "    </tr>\n",
       "    <tr>\n",
       "      <th>Italian</th>\n",
       "      <td>284.0</td>\n",
       "      <td>1.477532e+06</td>\n",
       "      <td>550.398627</td>\n",
       "      <td>1476553.0</td>\n",
       "      <td>1477045.50</td>\n",
       "      <td>1477547.5</td>\n",
       "      <td>1478002.25</td>\n",
       "      <td>1478425.0</td>\n",
       "      <td>284.0</td>\n",
       "      <td>159247.883803</td>\n",
       "      <td>...</td>\n",
       "      <td>29.00</td>\n",
       "      <td>33.0</td>\n",
       "      <td>284.0</td>\n",
       "      <td>4.361662</td>\n",
       "      <td>0.609592</td>\n",
       "      <td>3.0</td>\n",
       "      <td>4.000000</td>\n",
       "      <td>4.511905</td>\n",
       "      <td>5.000000</td>\n",
       "      <td>5.0</td>\n",
       "    </tr>\n",
       "    <tr>\n",
       "      <th>Japanese</th>\n",
       "      <td>469.0</td>\n",
       "      <td>1.477485e+06</td>\n",
       "      <td>551.741071</td>\n",
       "      <td>1476548.0</td>\n",
       "      <td>1476997.00</td>\n",
       "      <td>1477488.0</td>\n",
       "      <td>1477987.00</td>\n",
       "      <td>1478440.0</td>\n",
       "      <td>469.0</td>\n",
       "      <td>161620.899787</td>\n",
       "      <td>...</td>\n",
       "      <td>28.00</td>\n",
       "      <td>33.0</td>\n",
       "      <td>469.0</td>\n",
       "      <td>4.377249</td>\n",
       "      <td>0.566780</td>\n",
       "      <td>3.0</td>\n",
       "      <td>4.000000</td>\n",
       "      <td>4.347826</td>\n",
       "      <td>5.000000</td>\n",
       "      <td>5.0</td>\n",
       "    </tr>\n",
       "    <tr>\n",
       "      <th>Korean</th>\n",
       "      <td>11.0</td>\n",
       "      <td>1.477436e+06</td>\n",
       "      <td>559.429677</td>\n",
       "      <td>1476790.0</td>\n",
       "      <td>1476910.00</td>\n",
       "      <td>1477307.0</td>\n",
       "      <td>1477865.50</td>\n",
       "      <td>1478363.0</td>\n",
       "      <td>11.0</td>\n",
       "      <td>205667.090909</td>\n",
       "      <td>...</td>\n",
       "      <td>26.00</td>\n",
       "      <td>26.0</td>\n",
       "      <td>11.0</td>\n",
       "      <td>4.100000</td>\n",
       "      <td>0.741620</td>\n",
       "      <td>3.0</td>\n",
       "      <td>3.750000</td>\n",
       "      <td>4.000000</td>\n",
       "      <td>4.800000</td>\n",
       "      <td>5.0</td>\n",
       "    </tr>\n",
       "    <tr>\n",
       "      <th>Mediterranean</th>\n",
       "      <td>46.0</td>\n",
       "      <td>1.477483e+06</td>\n",
       "      <td>538.210687</td>\n",
       "      <td>1476562.0</td>\n",
       "      <td>1477035.50</td>\n",
       "      <td>1477474.0</td>\n",
       "      <td>1477944.00</td>\n",
       "      <td>1478427.0</td>\n",
       "      <td>46.0</td>\n",
       "      <td>115908.130435</td>\n",
       "      <td>...</td>\n",
       "      <td>28.75</td>\n",
       "      <td>33.0</td>\n",
       "      <td>46.0</td>\n",
       "      <td>4.220538</td>\n",
       "      <td>0.734825</td>\n",
       "      <td>3.0</td>\n",
       "      <td>4.000000</td>\n",
       "      <td>4.315789</td>\n",
       "      <td>5.000000</td>\n",
       "      <td>5.0</td>\n",
       "    </tr>\n",
       "    <tr>\n",
       "      <th>Mexican</th>\n",
       "      <td>76.0</td>\n",
       "      <td>1.477446e+06</td>\n",
       "      <td>556.568863</td>\n",
       "      <td>1476582.0</td>\n",
       "      <td>1477031.25</td>\n",
       "      <td>1477408.5</td>\n",
       "      <td>1477897.00</td>\n",
       "      <td>1478437.0</td>\n",
       "      <td>76.0</td>\n",
       "      <td>179893.684211</td>\n",
       "      <td>...</td>\n",
       "      <td>28.00</td>\n",
       "      <td>33.0</td>\n",
       "      <td>76.0</td>\n",
       "      <td>4.451276</td>\n",
       "      <td>0.607278</td>\n",
       "      <td>3.0</td>\n",
       "      <td>4.000000</td>\n",
       "      <td>4.333333</td>\n",
       "      <td>5.000000</td>\n",
       "      <td>5.0</td>\n",
       "    </tr>\n",
       "    <tr>\n",
       "      <th>Middle Eastern</th>\n",
       "      <td>49.0</td>\n",
       "      <td>1.477412e+06</td>\n",
       "      <td>584.325785</td>\n",
       "      <td>1476556.0</td>\n",
       "      <td>1476834.00</td>\n",
       "      <td>1477315.0</td>\n",
       "      <td>1477879.00</td>\n",
       "      <td>1478443.0</td>\n",
       "      <td>49.0</td>\n",
       "      <td>168839.938776</td>\n",
       "      <td>...</td>\n",
       "      <td>29.00</td>\n",
       "      <td>33.0</td>\n",
       "      <td>49.0</td>\n",
       "      <td>4.235479</td>\n",
       "      <td>0.629478</td>\n",
       "      <td>3.0</td>\n",
       "      <td>4.000000</td>\n",
       "      <td>4.153846</td>\n",
       "      <td>5.000000</td>\n",
       "      <td>5.0</td>\n",
       "    </tr>\n",
       "    <tr>\n",
       "      <th>Southern</th>\n",
       "      <td>17.0</td>\n",
       "      <td>1.477533e+06</td>\n",
       "      <td>506.678094</td>\n",
       "      <td>1476657.0</td>\n",
       "      <td>1477113.00</td>\n",
       "      <td>1477570.0</td>\n",
       "      <td>1477946.00</td>\n",
       "      <td>1478384.0</td>\n",
       "      <td>17.0</td>\n",
       "      <td>140340.117647</td>\n",
       "      <td>...</td>\n",
       "      <td>28.00</td>\n",
       "      <td>33.0</td>\n",
       "      <td>17.0</td>\n",
       "      <td>4.299465</td>\n",
       "      <td>0.551823</td>\n",
       "      <td>3.0</td>\n",
       "      <td>4.000000</td>\n",
       "      <td>4.000000</td>\n",
       "      <td>5.000000</td>\n",
       "      <td>5.0</td>\n",
       "    </tr>\n",
       "    <tr>\n",
       "      <th>Spanish</th>\n",
       "      <td>12.0</td>\n",
       "      <td>1.477497e+06</td>\n",
       "      <td>491.344376</td>\n",
       "      <td>1476739.0</td>\n",
       "      <td>1477274.25</td>\n",
       "      <td>1477442.5</td>\n",
       "      <td>1477847.25</td>\n",
       "      <td>1478375.0</td>\n",
       "      <td>12.0</td>\n",
       "      <td>180333.500000</td>\n",
       "      <td>...</td>\n",
       "      <td>28.25</td>\n",
       "      <td>30.0</td>\n",
       "      <td>12.0</td>\n",
       "      <td>4.812500</td>\n",
       "      <td>0.284545</td>\n",
       "      <td>4.0</td>\n",
       "      <td>4.750000</td>\n",
       "      <td>4.875000</td>\n",
       "      <td>5.000000</td>\n",
       "      <td>5.0</td>\n",
       "    </tr>\n",
       "    <tr>\n",
       "      <th>Thai</th>\n",
       "      <td>14.0</td>\n",
       "      <td>1.477584e+06</td>\n",
       "      <td>516.697421</td>\n",
       "      <td>1476717.0</td>\n",
       "      <td>1477230.00</td>\n",
       "      <td>1477537.0</td>\n",
       "      <td>1477903.00</td>\n",
       "      <td>1478391.0</td>\n",
       "      <td>14.0</td>\n",
       "      <td>211472.571429</td>\n",
       "      <td>...</td>\n",
       "      <td>26.75</td>\n",
       "      <td>29.0</td>\n",
       "      <td>14.0</td>\n",
       "      <td>4.690476</td>\n",
       "      <td>0.461589</td>\n",
       "      <td>4.0</td>\n",
       "      <td>4.166667</td>\n",
       "      <td>5.000000</td>\n",
       "      <td>5.000000</td>\n",
       "      <td>5.0</td>\n",
       "    </tr>\n",
       "    <tr>\n",
       "      <th>Vietnamese</th>\n",
       "      <td>7.0</td>\n",
       "      <td>1.477389e+06</td>\n",
       "      <td>553.152308</td>\n",
       "      <td>1476837.0</td>\n",
       "      <td>1476985.50</td>\n",
       "      <td>1477189.0</td>\n",
       "      <td>1477677.00</td>\n",
       "      <td>1478373.0</td>\n",
       "      <td>7.0</td>\n",
       "      <td>208296.142857</td>\n",
       "      <td>...</td>\n",
       "      <td>28.50</td>\n",
       "      <td>31.0</td>\n",
       "      <td>7.0</td>\n",
       "      <td>4.142857</td>\n",
       "      <td>0.899735</td>\n",
       "      <td>3.0</td>\n",
       "      <td>3.500000</td>\n",
       "      <td>4.000000</td>\n",
       "      <td>5.000000</td>\n",
       "      <td>5.0</td>\n",
       "    </tr>\n",
       "  </tbody>\n",
       "</table>\n",
       "<p>14 rows × 48 columns</p>\n",
       "</div>"
      ],
      "text/plain": [
       "               order_id                                                   \\\n",
       "                  count          mean         std        min         25%   \n",
       "cuisine_type                                                               \n",
       "American          579.0  1.477489e+06  549.131617  1476547.0  1477011.50   \n",
       "Chinese           213.0  1.477526e+06  545.152227  1476588.0  1477067.00   \n",
       "French             18.0  1.477438e+06  529.935130  1476754.0  1476929.50   \n",
       "Indian             73.0  1.477493e+06  563.977503  1476549.0  1477080.00   \n",
       "Italian           284.0  1.477532e+06  550.398627  1476553.0  1477045.50   \n",
       "Japanese          469.0  1.477485e+06  551.741071  1476548.0  1476997.00   \n",
       "Korean             11.0  1.477436e+06  559.429677  1476790.0  1476910.00   \n",
       "Mediterranean      46.0  1.477483e+06  538.210687  1476562.0  1477035.50   \n",
       "Mexican            76.0  1.477446e+06  556.568863  1476582.0  1477031.25   \n",
       "Middle Eastern     49.0  1.477412e+06  584.325785  1476556.0  1476834.00   \n",
       "Southern           17.0  1.477533e+06  506.678094  1476657.0  1477113.00   \n",
       "Spanish            12.0  1.477497e+06  491.344376  1476739.0  1477274.25   \n",
       "Thai               14.0  1.477584e+06  516.697421  1476717.0  1477230.00   \n",
       "Vietnamese          7.0  1.477389e+06  553.152308  1476837.0  1476985.50   \n",
       "\n",
       "                                                 customer_id                 \\\n",
       "                      50%         75%        max       count           mean   \n",
       "cuisine_type                                                                  \n",
       "American        1477466.0  1477980.00  1478444.0       579.0  183512.281520   \n",
       "Chinese         1477523.0  1477973.00  1478441.0       213.0  181173.436620   \n",
       "French          1477551.0  1477794.75  1478349.0        18.0  158138.722222   \n",
       "Indian          1477530.0  1477938.00  1478436.0        73.0  162106.397260   \n",
       "Italian         1477547.5  1478002.25  1478425.0       284.0  159247.883803   \n",
       "Japanese        1477488.0  1477987.00  1478440.0       469.0  161620.899787   \n",
       "Korean          1477307.0  1477865.50  1478363.0        11.0  205667.090909   \n",
       "Mediterranean   1477474.0  1477944.00  1478427.0        46.0  115908.130435   \n",
       "Mexican         1477408.5  1477897.00  1478437.0        76.0  179893.684211   \n",
       "Middle Eastern  1477315.0  1477879.00  1478443.0        49.0  168839.938776   \n",
       "Southern        1477570.0  1477946.00  1478384.0        17.0  140340.117647   \n",
       "Spanish         1477442.5  1477847.25  1478375.0        12.0  180333.500000   \n",
       "Thai            1477537.0  1477903.00  1478391.0        14.0  211472.571429   \n",
       "Vietnamese      1477189.0  1477677.00  1478373.0         7.0  208296.142857   \n",
       "\n",
       "                ... delivery_time       rating_new                           \\\n",
       "                ...           75%   max      count      mean       std  min   \n",
       "cuisine_type    ...                                                           \n",
       "American        ...         28.00  33.0      579.0  4.285867  0.616549  3.0   \n",
       "Chinese         ...         28.00  33.0      213.0  4.355247  0.624646  3.0   \n",
       "French          ...         28.75  29.0       18.0  4.277778  0.601197  3.0   \n",
       "Indian          ...         29.00  32.0       73.0  4.561644  0.577742  3.0   \n",
       "Italian         ...         29.00  33.0      284.0  4.361662  0.609592  3.0   \n",
       "Japanese        ...         28.00  33.0      469.0  4.377249  0.566780  3.0   \n",
       "Korean          ...         26.00  26.0       11.0  4.100000  0.741620  3.0   \n",
       "Mediterranean   ...         28.75  33.0       46.0  4.220538  0.734825  3.0   \n",
       "Mexican         ...         28.00  33.0       76.0  4.451276  0.607278  3.0   \n",
       "Middle Eastern  ...         29.00  33.0       49.0  4.235479  0.629478  3.0   \n",
       "Southern        ...         28.00  33.0       17.0  4.299465  0.551823  3.0   \n",
       "Spanish         ...         28.25  30.0       12.0  4.812500  0.284545  4.0   \n",
       "Thai            ...         26.75  29.0       14.0  4.690476  0.461589  4.0   \n",
       "Vietnamese      ...         28.50  31.0        7.0  4.142857  0.899735  3.0   \n",
       "\n",
       "                                                   \n",
       "                     25%       50%       75%  max  \n",
       "cuisine_type                                       \n",
       "American        4.000000  4.278195  5.000000  5.0  \n",
       "Chinese         4.000000  4.285714  5.000000  5.0  \n",
       "French          4.050000  4.200000  4.833333  5.0  \n",
       "Indian          4.000000  5.000000  5.000000  5.0  \n",
       "Italian         4.000000  4.511905  5.000000  5.0  \n",
       "Japanese        4.000000  4.347826  5.000000  5.0  \n",
       "Korean          3.750000  4.000000  4.800000  5.0  \n",
       "Mediterranean   4.000000  4.315789  5.000000  5.0  \n",
       "Mexican         4.000000  4.333333  5.000000  5.0  \n",
       "Middle Eastern  4.000000  4.153846  5.000000  5.0  \n",
       "Southern        4.000000  4.000000  5.000000  5.0  \n",
       "Spanish         4.750000  4.875000  5.000000  5.0  \n",
       "Thai            4.166667  5.000000  5.000000  5.0  \n",
       "Vietnamese      3.500000  4.000000  5.000000  5.0  \n",
       "\n",
       "[14 rows x 48 columns]"
      ]
     },
     "execution_count": 47,
     "metadata": {},
     "output_type": "execute_result"
    }
   ],
   "source": [
    "dataset_obs.sort_values(by=['cuisine_type']).groupby(\"cuisine_type\").describe()"
   ]
  },
  {
   "cell_type": "markdown",
   "id": "b3e3bddb",
   "metadata": {},
   "source": [
    "Let's a more detailed overview of the descriptive statistics for different categories of cuisine"
   ]
  },
  {
   "cell_type": "code",
   "execution_count": 48,
   "id": "e3773c18",
   "metadata": {},
   "outputs": [
    {
     "name": "stdout",
     "output_type": "stream",
     "text": [
      "              order_id  customer_id            restaurant_name  \\\n",
      "cuisine_type                                                     \n",
      "American       1477334       106968  Blue Ribbon Fried Chicken   \n",
      "American       1478249        76942           Dirty Bird to Go   \n",
      "American       1476966       129969  Blue Ribbon Fried Chicken   \n",
      "American       1478198        62667     Lucky's Famous Burgers   \n",
      "American       1477414        66222                Shake Shack   \n",
      "...                ...          ...                        ...   \n",
      "American       1477550        97324                Shake Shack   \n",
      "American       1478277        48282          The Meatball Shop   \n",
      "American       1476873       237616                Shake Shack   \n",
      "American       1476981       138586                Shake Shack   \n",
      "American       1477421       397537                  The Smile   \n",
      "\n",
      "              cost_of_the_order day_of_the_week     rating  \\\n",
      "cuisine_type                                                 \n",
      "American                  29.20         Weekend          3   \n",
      "American                  11.59         Weekday          4   \n",
      "American                  24.30         Weekend          5   \n",
      "American                  12.13         Weekday  Not given   \n",
      "American                  16.20         Weekend          5   \n",
      "...                         ...             ...        ...   \n",
      "American                  29.05         Weekday          4   \n",
      "American                  14.50         Weekend          5   \n",
      "American                   5.82         Weekend  Not given   \n",
      "American                   5.82         Weekend  Not given   \n",
      "American                  12.18         Weekend          5   \n",
      "\n",
      "              food_preparation_time  delivery_time  rating_new rating_newww  \n",
      "cuisine_type                                                                 \n",
      "American                         25             15    3.000000          3.0  \n",
      "American                         25             24    4.000000          4.0  \n",
      "American                         23             17    5.000000          5.0  \n",
      "American                         23             30    4.750000          5.0  \n",
      "American                         33             25    5.000000          5.0  \n",
      "...                             ...            ...         ...          ...  \n",
      "American                         27             29    4.000000          4.0  \n",
      "American                         34             25    5.000000          5.0  \n",
      "American                         26             30    4.278195          4.0  \n",
      "American                         22             28    4.278195          4.0  \n",
      "American                         31             19    5.000000          5.0  \n",
      "\n",
      "[579 rows x 10 columns]\n",
      "           order_id    customer_id  cost_of_the_order  food_preparation_time  \\\n",
      "count  5.790000e+02     579.000000         579.000000             579.000000   \n",
      "mean   1.477489e+06  183512.281520          16.351865              27.419689   \n",
      "std    5.491316e+02  116829.899833           7.465092               4.646131   \n",
      "min    1.476547e+06   14869.000000           4.710000              20.000000   \n",
      "25%    1.477012e+06   79656.500000          12.080000              23.000000   \n",
      "50%    1.477466e+06  141912.000000          14.120000              27.000000   \n",
      "75%    1.477980e+06  298824.000000          22.260000              31.000000   \n",
      "max    1.478444e+06  403019.000000          33.180000              35.000000   \n",
      "\n",
      "       delivery_time  rating_new  \n",
      "count     579.000000  579.000000  \n",
      "mean       24.198618    4.285867  \n",
      "std         4.834306    0.616549  \n",
      "min        15.000000    3.000000  \n",
      "25%        20.000000    4.000000  \n",
      "50%        25.000000    4.278195  \n",
      "75%        28.000000    5.000000  \n",
      "max        33.000000    5.000000  \n",
      "              order_id  customer_id      restaurant_name  cost_of_the_order  \\\n",
      "cuisine_type                                                                  \n",
      "Chinese        1477138        47280       RedFarm Hudson              14.12   \n",
      "Chinese        1477267       133637     RedFarm Broadway              24.25   \n",
      "Chinese        1478107        73895     RedFarm Broadway              29.10   \n",
      "Chinese        1477889       177250       RedFarm Hudson              12.23   \n",
      "Chinese        1477243       176234  Prosperity Dumpling              14.02   \n",
      "...                ...          ...                  ...                ...   \n",
      "Chinese        1476723       136807       RedFarm Hudson              19.35   \n",
      "Chinese        1478268       306119   Xi'an Famous Foods              20.86   \n",
      "Chinese        1477778       100889     RedFarm Broadway              31.43   \n",
      "Chinese        1478190        94152     RedFarm Broadway               8.68   \n",
      "Chinese        1477473        97838          Han Dynasty              29.15   \n",
      "\n",
      "             day_of_the_week     rating  food_preparation_time  delivery_time  \\\n",
      "cuisine_type                                                                    \n",
      "Chinese              Weekend          4                     25             24   \n",
      "Chinese              Weekend          5                     22             15   \n",
      "Chinese              Weekend  Not given                     22             23   \n",
      "Chinese              Weekday          5                     25             33   \n",
      "Chinese              Weekend          5                     20             30   \n",
      "...                      ...        ...                    ...            ...   \n",
      "Chinese              Weekday          5                     35             28   \n",
      "Chinese              Weekend          4                     35             26   \n",
      "Chinese              Weekend          4                     30             23   \n",
      "Chinese              Weekday          3                     33             30   \n",
      "Chinese              Weekend  Not given                     29             21   \n",
      "\n",
      "              rating_new rating_newww  \n",
      "cuisine_type                           \n",
      "Chinese         4.000000          4.0  \n",
      "Chinese         5.000000          5.0  \n",
      "Chinese         4.243902          4.0  \n",
      "Chinese         5.000000          5.0  \n",
      "Chinese         5.000000          5.0  \n",
      "...                  ...          ...  \n",
      "Chinese         5.000000          5.0  \n",
      "Chinese         4.000000          4.0  \n",
      "Chinese         4.000000          4.0  \n",
      "Chinese         3.000000          3.0  \n",
      "Chinese         4.434783          4.0  \n",
      "\n",
      "[213 rows x 10 columns]\n",
      "           order_id    customer_id  cost_of_the_order  food_preparation_time  \\\n",
      "count  2.130000e+02     213.000000         213.000000             213.000000   \n",
      "mean   1.477526e+06  181173.436620          16.398873              27.460094   \n",
      "std    5.451522e+02  119536.541948           7.605271               4.749832   \n",
      "min    1.476588e+06   17495.000000           4.750000              20.000000   \n",
      "25%    1.477067e+06   76907.000000          12.130000              23.000000   \n",
      "50%    1.477523e+06  142170.000000          14.120000              27.000000   \n",
      "75%    1.477973e+06  294478.000000          21.930000              32.000000   \n",
      "max    1.478441e+06  402215.000000          34.190000              35.000000   \n",
      "\n",
      "       delivery_time  rating_new  \n",
      "count     213.000000  213.000000  \n",
      "mean       23.835681    4.355247  \n",
      "std         4.981688    0.624646  \n",
      "min        15.000000    3.000000  \n",
      "25%        20.000000    4.000000  \n",
      "50%        24.000000    4.285714  \n",
      "75%        28.000000    5.000000  \n",
      "max        33.000000    5.000000  \n",
      "              order_id  customer_id        restaurant_name  cost_of_the_order  \\\n",
      "cuisine_type                                                                    \n",
      "French         1477704       100999  Balthazar Boulangerie              12.13   \n",
      "French         1476799       389740              L'Express              19.69   \n",
      "French         1476952       229946  Balthazar Boulangerie              15.52   \n",
      "French         1477920        83504  Balthazar Boulangerie              29.15   \n",
      "French         1478349       229946  Balthazar Boulangerie              21.39   \n",
      "French         1477825       389740              L'Express              11.98   \n",
      "French         1477667       106478  Balthazar Boulangerie              12.13   \n",
      "French         1478100        62667  Balthazar Boulangerie              21.93   \n",
      "French         1477553        52037              L'Express              22.02   \n",
      "French         1476776       125123        Le Grainne Cafe              29.25   \n",
      "French         1477549       297130              L'Express              29.20   \n",
      "French         1477179        52832              L'Express              24.20   \n",
      "French         1476922        66373  Balthazar Boulangerie              12.18   \n",
      "French         1476754       229946  Balthazar Boulangerie              21.25   \n",
      "French         1477608       125123        Le Grainne Cafe              15.96   \n",
      "French         1477144        62667  Balthazar Boulangerie              29.10   \n",
      "French         1476853       139626              L'Express              16.98   \n",
      "French         1478234       102620  Balthazar Boulangerie              12.23   \n",
      "\n",
      "             day_of_the_week     rating  food_preparation_time  delivery_time  \\\n",
      "cuisine_type                                                                    \n",
      "French               Weekend  Not given                     22             27   \n",
      "French               Weekend          3                     26             17   \n",
      "French               Weekend  Not given                     21             29   \n",
      "French               Weekday          4                     31             28   \n",
      "French               Weekend  Not given                     35             29   \n",
      "French               Weekday          5                     21             28   \n",
      "French               Weekend          5                     25             24   \n",
      "French               Weekend  Not given                     31             20   \n",
      "French               Weekday  Not given                     21             27   \n",
      "French               Weekend          5                     27             24   \n",
      "French               Weekend          5                     21             29   \n",
      "French               Weekday  Not given                     28             24   \n",
      "French               Weekend          3                     24             29   \n",
      "French               Weekend  Not given                     25             20   \n",
      "French               Weekend          4                     25             22   \n",
      "French               Weekend          5                     31             27   \n",
      "French               Weekday  Not given                     35             29   \n",
      "French               Weekend          4                     35             23   \n",
      "\n",
      "              rating_new rating_newww  \n",
      "cuisine_type                           \n",
      "French          4.200000          4.0  \n",
      "French          3.000000          3.0  \n",
      "French          4.200000          4.0  \n",
      "French          4.000000          4.0  \n",
      "French          4.200000          4.0  \n",
      "French          5.000000          5.0  \n",
      "French          5.000000          5.0  \n",
      "French          4.200000          4.0  \n",
      "French          4.333333          4.0  \n",
      "French          5.000000          5.0  \n",
      "French          5.000000          5.0  \n",
      "French          4.333333          4.0  \n",
      "French          3.000000          3.0  \n",
      "French          4.200000          4.0  \n",
      "French          4.000000          4.0  \n",
      "French          5.000000          5.0  \n",
      "French          4.333333          4.0  \n",
      "French          4.000000          4.0  \n",
      "           order_id    customer_id  cost_of_the_order  food_preparation_time  \\\n",
      "count  1.800000e+01      18.000000          18.000000              18.000000   \n",
      "mean   1.477438e+06  158138.722222          19.793889              26.888889   \n",
      "std    5.299351e+02  110659.176806           6.508990               5.039712   \n",
      "min    1.476754e+06   52037.000000          11.980000              21.000000   \n",
      "25%    1.476930e+06   70655.750000          13.052500              22.500000   \n",
      "50%    1.477551e+06  115800.500000          20.470000              25.500000   \n",
      "75%    1.477795e+06  229946.000000          23.655000              31.000000   \n",
      "max    1.478349e+06  389740.000000          29.250000              35.000000   \n",
      "\n",
      "       delivery_time  rating_new  \n",
      "count      18.000000   18.000000  \n",
      "mean       25.333333    4.277778  \n",
      "std         3.741657    0.601197  \n",
      "min        17.000000    3.000000  \n",
      "25%        23.250000    4.050000  \n",
      "50%        27.000000    4.200000  \n",
      "75%        28.750000    4.833333  \n",
      "max        29.000000    5.000000  \n",
      "              order_id  customer_id        restaurant_name  cost_of_the_order  \\\n",
      "cuisine_type                                                                    \n",
      "Indian         1477224       147468       Tamarind TriBeCa              25.22   \n",
      "Indian         1477174       121706     Anjappar Chettinad              16.44   \n",
      "Indian         1477311        39705          Bukhara Grill               7.18   \n",
      "Indian         1478289       318874  The Kati Roll Company              31.33   \n",
      "Indian         1477821       277898                 Haandi               5.67   \n",
      "...                ...          ...                    ...                ...   \n",
      "Indian         1477781       183520       Tamarind TriBeCa              12.47   \n",
      "Indian         1476570       148459  The Kati Roll Company               5.87   \n",
      "Indian         1478360       375043       Tamarind TriBeCa              24.20   \n",
      "Indian         1478207        62161       Tamarind TriBeCa              24.20   \n",
      "Indian         1477186       291891  The Kati Roll Company              11.64   \n",
      "\n",
      "             day_of_the_week     rating  food_preparation_time  delivery_time  \\\n",
      "cuisine_type                                                                    \n",
      "Indian               Weekday          3                     20             24   \n",
      "Indian               Weekday          5                     21             26   \n",
      "Indian               Weekday          5                     29             26   \n",
      "Indian               Weekend          5                     28             25   \n",
      "Indian               Weekday          4                     23             31   \n",
      "...                      ...        ...                    ...            ...   \n",
      "Indian               Weekend          5                     32             26   \n",
      "Indian               Weekday  Not given                     26             30   \n",
      "Indian               Weekend  Not given                     24             29   \n",
      "Indian               Weekend          4                     28             26   \n",
      "Indian               Weekend          4                     34             18   \n",
      "\n",
      "              rating_new rating_newww  \n",
      "cuisine_type                           \n",
      "Indian               3.0          3.0  \n",
      "Indian               5.0          5.0  \n",
      "Indian               5.0          5.0  \n",
      "Indian               5.0          5.0  \n",
      "Indian               4.0          4.0  \n",
      "...                  ...          ...  \n",
      "Indian               5.0          5.0  \n",
      "Indian               4.7          5.0  \n",
      "Indian               4.4          4.0  \n",
      "Indian               4.0          4.0  \n",
      "Indian               4.0          4.0  \n",
      "\n",
      "[73 rows x 10 columns]\n",
      "           order_id    customer_id  cost_of_the_order  food_preparation_time  \\\n",
      "count  7.300000e+01      73.000000          73.000000              73.000000   \n",
      "mean   1.477493e+06  162106.397260          16.919726              27.109589   \n",
      "std    5.639775e+02  115440.434052           7.897493               4.620491   \n",
      "min    1.476549e+06    7567.000000           5.340000              20.000000   \n",
      "25%    1.477080e+06   75169.000000          11.640000              23.000000   \n",
      "50%    1.477530e+06  115213.000000          16.150000              27.000000   \n",
      "75%    1.477938e+06  277898.000000          24.200000              31.000000   \n",
      "max    1.478436e+06  399832.000000          33.030000              35.000000   \n",
      "\n",
      "       delivery_time  rating_new  \n",
      "count      73.000000   73.000000  \n",
      "mean       24.082192    4.561644  \n",
      "std         5.054573    0.577742  \n",
      "min        15.000000    3.000000  \n",
      "25%        20.000000    4.000000  \n",
      "50%        25.000000    5.000000  \n",
      "75%        29.000000    5.000000  \n",
      "max        32.000000    5.000000  \n",
      "              order_id  customer_id         restaurant_name  \\\n",
      "cuisine_type                                                  \n",
      "Italian        1477894       157711       The Meatball Shop   \n",
      "Italian        1476995       371590       The Meatball Shop   \n",
      "Italian        1476844       175290   Otto Enoteca Pizzeria   \n",
      "Italian        1477015        76686  Vezzo Thin Crust Pizza   \n",
      "Italian        1478244       181782                    Parm   \n",
      "...                ...          ...                     ...   \n",
      "Italian        1477927       351329                    Parm   \n",
      "Italian        1477222       348096       The Meatball Shop   \n",
      "Italian        1476939       111894       The Meatball Shop   \n",
      "Italian        1478320        85091       The Meatball Shop   \n",
      "Italian        1477353       106324       The Meatball Shop   \n",
      "\n",
      "              cost_of_the_order day_of_the_week     rating  \\\n",
      "cuisine_type                                                 \n",
      "Italian                    6.07         Weekend  Not given   \n",
      "Italian                   21.88         Weekday          5   \n",
      "Italian                   14.02         Weekend  Not given   \n",
      "Italian                    9.17         Weekend  Not given   \n",
      "Italian                   29.10         Weekend          5   \n",
      "...                         ...             ...        ...   \n",
      "Italian                   12.23         Weekday  Not given   \n",
      "Italian                   11.64         Weekend          4   \n",
      "Italian                   25.27         Weekend  Not given   \n",
      "Italian                   13.53         Weekday          3   \n",
      "Italian                   16.20         Weekend          5   \n",
      "\n",
      "              food_preparation_time  delivery_time  rating_new rating_newww  \n",
      "cuisine_type                                                                 \n",
      "Italian                          28             21    4.511905          5.0  \n",
      "Italian                          24             27    5.000000          5.0  \n",
      "Italian                          24             16    4.857143          5.0  \n",
      "Italian                          21             24    5.000000          5.0  \n",
      "Italian                          30             26    5.000000          5.0  \n",
      "...                             ...            ...         ...          ...  \n",
      "Italian                          27             26    4.128205          4.0  \n",
      "Italian                          23             24    4.000000          4.0  \n",
      "Italian                          25             29    4.511905          5.0  \n",
      "Italian                          20             31    3.000000          3.0  \n",
      "Italian                          21             26    5.000000          5.0  \n",
      "\n",
      "[284 rows x 10 columns]\n",
      "           order_id    customer_id  cost_of_the_order  food_preparation_time  \\\n",
      "count  2.840000e+02     284.000000         284.000000             284.000000   \n",
      "mean   1.477532e+06  159247.883803          16.376866              27.535211   \n",
      "std    5.503986e+02  112594.665814           7.235061               4.538274   \n",
      "min    1.476553e+06    5693.000000           5.050000              20.000000   \n",
      "25%    1.477046e+06   77175.750000          12.080000              23.000000   \n",
      "50%    1.477548e+06  114159.500000          14.360000              28.000000   \n",
      "75%    1.478002e+06  241425.000000          22.260000              31.000000   \n",
      "max    1.478425e+06  404649.000000          33.030000              35.000000   \n",
      "\n",
      "       delivery_time  rating_new  \n",
      "count     284.000000  284.000000  \n",
      "mean       24.718310    4.361662  \n",
      "std         5.096755    0.609592  \n",
      "min        15.000000    3.000000  \n",
      "25%        21.000000    4.000000  \n",
      "50%        26.000000    4.511905  \n",
      "75%        29.000000    5.000000  \n",
      "max        33.000000    5.000000  \n",
      "              order_id  customer_id    restaurant_name  cost_of_the_order  \\\n",
      "cuisine_type                                                                \n",
      "Japanese       1477685       358141  Blue Ribbon Sushi              12.08   \n",
      "Japanese       1477486       104555      Sushi of Gari              16.98   \n",
      "Japanese       1477373       139885  Blue Ribbon Sushi              33.03   \n",
      "Japanese       1477354        67487  Blue Ribbon Sushi              16.20   \n",
      "Japanese       1476889       149984      Sushi of Gari              12.18   \n",
      "...                ...          ...                ...                ...   \n",
      "Japanese       1477194        62540  Blue Ribbon Sushi               5.92   \n",
      "Japanese       1477132       110792  Blue Ribbon Sushi              12.13   \n",
      "Japanese       1477316       164776                TAO              15.67   \n",
      "Japanese       1477819        35309  Blue Ribbon Sushi              25.22   \n",
      "Japanese       1478056       120353  Blue Ribbon Sushi              19.45   \n",
      "\n",
      "             day_of_the_week     rating  food_preparation_time  delivery_time  \\\n",
      "cuisine_type                                                                    \n",
      "Japanese             Weekend  Not given                     25             23   \n",
      "Japanese             Weekend  Not given                     30             16   \n",
      "Japanese             Weekend  Not given                     21             22   \n",
      "Japanese             Weekend          4                     35             26   \n",
      "Japanese             Weekday  Not given                     20             29   \n",
      "...                      ...        ...                    ...            ...   \n",
      "Japanese             Weekday  Not given                     27             31   \n",
      "Japanese             Weekend          5                     28             15   \n",
      "Japanese             Weekend          5                     20             22   \n",
      "Japanese             Weekday  Not given                     31             24   \n",
      "Japanese             Weekend  Not given                     28             24   \n",
      "\n",
      "              rating_new rating_newww  \n",
      "cuisine_type                           \n",
      "Japanese        4.309735          4.0  \n",
      "Japanese        4.459459          4.0  \n",
      "Japanese        4.309735          4.0  \n",
      "Japanese        4.000000          4.0  \n",
      "Japanese        4.459459          4.0  \n",
      "...                  ...          ...  \n",
      "Japanese        4.309735          4.0  \n",
      "Japanese        5.000000          5.0  \n",
      "Japanese        5.000000          5.0  \n",
      "Japanese        4.309735          4.0  \n",
      "Japanese        4.309735          4.0  \n",
      "\n",
      "[469 rows x 10 columns]\n",
      "           order_id    customer_id  cost_of_the_order  food_preparation_time  \\\n",
      "count  4.690000e+02     469.000000         469.000000             469.000000   \n",
      "mean   1.477485e+06  161620.899787          16.311471              27.501066   \n",
      "std    5.517411e+02  108735.229381           7.429122               4.604728   \n",
      "min    1.476548e+06    5139.000000           4.470000              20.000000   \n",
      "25%    1.476997e+06   78939.000000          12.080000              24.000000   \n",
      "50%    1.477488e+06  122609.000000          14.070000              27.000000   \n",
      "75%    1.477987e+06  241080.000000          21.830000              32.000000   \n",
      "max    1.478440e+06  405334.000000          33.370000              35.000000   \n",
      "\n",
      "       delivery_time  rating_new  \n",
      "count     469.000000  469.000000  \n",
      "mean       24.125800    4.377249  \n",
      "std         4.990927    0.566780  \n",
      "min        15.000000    3.000000  \n",
      "25%        20.000000    4.000000  \n",
      "50%        25.000000    4.347826  \n",
      "75%        28.000000    5.000000  \n",
      "max        33.000000    5.000000  \n",
      "              order_id  customer_id             restaurant_name  \\\n",
      "cuisine_type                                                      \n",
      "Korean         1476856        59674                    Woorijip   \n",
      "Korean         1478363       138024                Cho Dang Gol   \n",
      "Korean         1477302        52832  Don's Bogam BBQ & Wine Bar   \n",
      "Korean         1476894       384698  Don's Bogam BBQ & Wine Bar   \n",
      "Korean         1477746       288777  Don's Bogam BBQ & Wine Bar   \n",
      "Korean         1477985       325272                Cho Dang Gol   \n",
      "Korean         1478164       138024                Cho Dang Gol   \n",
      "Korean         1477461       241719     Kori Restaurant and Bar   \n",
      "Korean         1476926       349854                Cho Dang Gol   \n",
      "Korean         1477307       141732                Cho Dang Gol   \n",
      "Korean         1476790       141732                Cho Dang Gol   \n",
      "\n",
      "              cost_of_the_order day_of_the_week     rating  \\\n",
      "cuisine_type                                                 \n",
      "Korean                     8.25         Weekend          3   \n",
      "Korean                    29.25         Weekend          4   \n",
      "Korean                    12.23         Weekend  Not given   \n",
      "Korean                    14.07         Weekend          3   \n",
      "Korean                    12.61         Weekend          4   \n",
      "Korean                    12.13         Weekend          4   \n",
      "Korean                    11.84         Weekend          5   \n",
      "Korean                    12.18         Weekday          4   \n",
      "Korean                    14.02         Weekend  Not given   \n",
      "Korean                     5.77         Weekend          5   \n",
      "Korean                    12.18         Weekday          5   \n",
      "\n",
      "              food_preparation_time  delivery_time  rating_new rating_newww  \n",
      "cuisine_type                                                                 \n",
      "Korean                           26             26         3.0          3.0  \n",
      "Korean                           23             21         4.0          4.0  \n",
      "Korean                           32             20         3.5          4.0  \n",
      "Korean                           33             16         3.0          3.0  \n",
      "Korean                           25             26         4.0          4.0  \n",
      "Korean                           29             16         4.0          4.0  \n",
      "Korean                           25             16         5.0          5.0  \n",
      "Korean                           26             26         4.0          4.0  \n",
      "Korean                           25             20         4.6          5.0  \n",
      "Korean                           21             17         5.0          5.0  \n",
      "Korean                           20             26         5.0          5.0  \n",
      "           order_id    customer_id  cost_of_the_order  food_preparation_time  \\\n",
      "count  1.100000e+01      11.000000          11.000000              11.000000   \n",
      "mean   1.477436e+06  205667.090909          13.139091              25.909091   \n",
      "std    5.594297e+02  117197.857225           5.874204               4.085451   \n",
      "min    1.476790e+06   52832.000000           5.770000              20.000000   \n",
      "25%    1.476910e+06  138024.000000          11.985000              24.000000   \n",
      "50%    1.477307e+06  141732.000000          12.180000              25.000000   \n",
      "75%    1.477866e+06  307024.500000          13.315000              27.500000   \n",
      "max    1.478363e+06  384698.000000          29.250000              33.000000   \n",
      "\n",
      "       delivery_time  rating_new  \n",
      "count      11.000000    11.00000  \n",
      "mean       20.909091     4.10000  \n",
      "std         4.392142     0.74162  \n",
      "min        16.000000     3.00000  \n",
      "25%        16.500000     3.75000  \n",
      "50%        20.000000     4.00000  \n",
      "75%        26.000000     4.80000  \n",
      "max        26.000000     5.00000  \n",
      "               order_id  customer_id    restaurant_name  cost_of_the_order  \\\n",
      "cuisine_type                                                                 \n",
      "Mediterranean   1477859        89574          Barbounia               5.97   \n",
      "Mediterranean   1477449       104548              Pylos              11.30   \n",
      "Mediterranean   1477760       130507  Jack's Wife Freda              22.75   \n",
      "Mediterranean   1476562       129486   Mamoun's Falafel              14.12   \n",
      "Mediterranean   1476725        42935          Barbounia              13.97   \n",
      "Mediterranean   1478093       268958          Barbounia              20.18   \n",
      "Mediterranean   1478092        41318  Jack's Wife Freda              15.47   \n",
      "Mediterranean   1477135        62359              Pylos              19.40   \n",
      "Mediterranean   1477237        59217  Jack's Wife Freda              16.15   \n",
      "Mediterranean   1477410        39011   Mamoun's Falafel               9.07   \n",
      "Mediterranean   1477463        66505   Mamoun's Falafel              12.18   \n",
      "Mediterranean   1476740        60873  Jack's Wife Freda              25.17   \n",
      "Mediterranean   1476934       126134  Jack's Wife Freda              32.93   \n",
      "Mediterranean   1477705        60397  Jack's Wife Freda              12.18   \n",
      "Mediterranean   1477814        62359              Pylos              35.41   \n",
      "Mediterranean   1477088       129486   Mamoun's Falafel              12.61   \n",
      "Mediterranean   1476625       348352               Olea               6.69   \n",
      "Mediterranean   1477485       165695  Jack's Wife Freda               6.69   \n",
      "Mediterranean   1478387        70564  Jack's Wife Freda              12.08   \n",
      "Mediterranean   1478053       125262          Barbounia               5.77   \n",
      "Mediterranean   1477893        63513   Mamoun's Falafel               5.92   \n",
      "Mediterranean   1477706        68258  Jack's Wife Freda              22.31   \n",
      "Mediterranean   1476968        99621  Jack's Wife Freda              29.05   \n",
      "Mediterranean   1476768        72757  Jack's Wife Freda               8.49   \n",
      "Mediterranean   1477241        42828  Jack's Wife Freda              14.12   \n",
      "Mediterranean   1478293        84045          Barbounia              12.13   \n",
      "Mediterranean   1477961       167738  Jack's Wife Freda              31.43   \n",
      "Mediterranean   1478044       354719  Jack's Wife Freda              31.38   \n",
      "Mediterranean   1478427        86806              Pylos              14.12   \n",
      "Mediterranean   1477715       217363  Jack's Wife Freda               9.41   \n",
      "Mediterranean   1476811        47386          Barbounia              16.93   \n",
      "Mediterranean   1477079        49086  Jack's Wife Freda              12.13   \n",
      "Mediterranean   1477344        99621  Jack's Wife Freda               5.67   \n",
      "Mediterranean   1476816       344079               Olea              12.23   \n",
      "Mediterranean   1477687        72757  Jack's Wife Freda              12.13   \n",
      "Mediterranean   1478025        99312              Pylos              14.02   \n",
      "Mediterranean   1478251        99621  Jack's Wife Freda              12.47   \n",
      "Mediterranean   1478061        64151  Jack's Wife Freda              16.01   \n",
      "Mediterranean   1477021       231453   Mamoun's Falafel              14.46   \n",
      "Mediterranean   1478264        70564  Jack's Wife Freda              16.15   \n",
      "Mediterranean   1477228        52574  Jack's Wife Freda               6.74   \n",
      "Mediterranean   1476727        49086  Jack's Wife Freda              12.95   \n",
      "Mediterranean   1476840       143866  Jack's Wife Freda              20.71   \n",
      "Mediterranean   1477526       344079               Olea              24.20   \n",
      "Mediterranean   1477415        58800   Mamoun's Falafel              14.41   \n",
      "Mediterranean   1477513        64151  Jack's Wife Freda              12.18   \n",
      "\n",
      "              day_of_the_week     rating  food_preparation_time  \\\n",
      "cuisine_type                                                      \n",
      "Mediterranean         Weekday          3                     33   \n",
      "Mediterranean         Weekend          3                     24   \n",
      "Mediterranean         Weekend          3                     35   \n",
      "Mediterranean         Weekend          3                     31   \n",
      "Mediterranean         Weekend          5                     29   \n",
      "Mediterranean         Weekend          5                     29   \n",
      "Mediterranean         Weekend          5                     33   \n",
      "Mediterranean         Weekend  Not given                     28   \n",
      "Mediterranean         Weekend          4                     26   \n",
      "Mediterranean         Weekend  Not given                     20   \n",
      "Mediterranean         Weekday          5                     25   \n",
      "Mediterranean         Weekday          4                     31   \n",
      "Mediterranean         Weekend          3                     21   \n",
      "Mediterranean         Weekend          3                     33   \n",
      "Mediterranean         Weekday          4                     21   \n",
      "Mediterranean         Weekend          4                     21   \n",
      "Mediterranean         Weekday  Not given                     20   \n",
      "Mediterranean         Weekend          5                     21   \n",
      "Mediterranean         Weekend          5                     30   \n",
      "Mediterranean         Weekend  Not given                     23   \n",
      "Mediterranean         Weekday  Not given                     31   \n",
      "Mediterranean         Weekend  Not given                     23   \n",
      "Mediterranean         Weekend          5                     35   \n",
      "Mediterranean         Weekend  Not given                     23   \n",
      "Mediterranean         Weekday          5                     25   \n",
      "Mediterranean         Weekend  Not given                     26   \n",
      "Mediterranean         Weekend          5                     34   \n",
      "Mediterranean         Weekend  Not given                     28   \n",
      "Mediterranean         Weekday          4                     26   \n",
      "Mediterranean         Weekend          5                     28   \n",
      "Mediterranean         Weekend          5                     30   \n",
      "Mediterranean         Weekend          4                     33   \n",
      "Mediterranean         Weekday          3                     24   \n",
      "Mediterranean         Weekend          4                     29   \n",
      "Mediterranean         Weekend          5                     21   \n",
      "Mediterranean         Weekday          3                     30   \n",
      "Mediterranean         Weekend          5                     34   \n",
      "Mediterranean         Weekday  Not given                     28   \n",
      "Mediterranean         Weekend  Not given                     20   \n",
      "Mediterranean         Weekday          5                     22   \n",
      "Mediterranean         Weekend  Not given                     25   \n",
      "Mediterranean         Weekday          3                     22   \n",
      "Mediterranean         Weekend  Not given                     35   \n",
      "Mediterranean         Weekend  Not given                     20   \n",
      "Mediterranean         Weekend          5                     33   \n",
      "Mediterranean         Weekday          5                     23   \n",
      "\n",
      "               delivery_time  rating_new rating_newww  \n",
      "cuisine_type                                           \n",
      "Mediterranean             30    3.000000          3.0  \n",
      "Mediterranean             23    3.000000          3.0  \n",
      "Mediterranean             29    3.000000          3.0  \n",
      "Mediterranean             15    3.000000          3.0  \n",
      "Mediterranean             25    5.000000          5.0  \n",
      "Mediterranean             19    5.000000          5.0  \n",
      "Mediterranean             16    5.000000          5.0  \n",
      "Mediterranean             29    3.500000          4.0  \n",
      "Mediterranean             22    4.000000          4.0  \n",
      "Mediterranean             24    4.250000          4.0  \n",
      "Mediterranean             30    5.000000          5.0  \n",
      "Mediterranean             25    4.000000          4.0  \n",
      "Mediterranean             16    3.000000          3.0  \n",
      "Mediterranean             23    3.000000          3.0  \n",
      "Mediterranean             29    4.000000          4.0  \n",
      "Mediterranean             17    4.000000          4.0  \n",
      "Mediterranean             28    4.000000          4.0  \n",
      "Mediterranean             16    5.000000          5.0  \n",
      "Mediterranean             19    5.000000          5.0  \n",
      "Mediterranean             23    4.500000          4.0  \n",
      "Mediterranean             33    4.250000          4.0  \n",
      "Mediterranean             28    4.315789          4.0  \n",
      "Mediterranean             28    5.000000          5.0  \n",
      "Mediterranean             18    4.315789          4.0  \n",
      "Mediterranean             25    5.000000          5.0  \n",
      "Mediterranean             26    4.500000          4.0  \n",
      "Mediterranean             20    5.000000          5.0  \n",
      "Mediterranean             18    4.315789          4.0  \n",
      "Mediterranean             24    4.000000          4.0  \n",
      "Mediterranean             15    5.000000          5.0  \n",
      "Mediterranean             18    5.000000          5.0  \n",
      "Mediterranean             23    4.000000          4.0  \n",
      "Mediterranean             29    3.000000          3.0  \n",
      "Mediterranean             24    4.000000          4.0  \n",
      "Mediterranean             19    5.000000          5.0  \n",
      "Mediterranean             29    3.000000          3.0  \n",
      "Mediterranean             20    5.000000          5.0  \n",
      "Mediterranean             33    4.315789          4.0  \n",
      "Mediterranean             29    4.250000          4.0  \n",
      "Mediterranean             24    5.000000          5.0  \n",
      "Mediterranean             22    4.315789          4.0  \n",
      "Mediterranean             33    3.000000          3.0  \n",
      "Mediterranean             16    4.315789          4.0  \n",
      "Mediterranean             16    4.000000          4.0  \n",
      "Mediterranean             26    5.000000          5.0  \n",
      "Mediterranean             31    5.000000          5.0  \n"
     ]
    },
    {
     "name": "stdout",
     "output_type": "stream",
     "text": [
      "           order_id    customer_id  cost_of_the_order  food_preparation_time  \\\n",
      "count  4.600000e+01      46.000000          46.000000              46.000000   \n",
      "mean   1.477483e+06  115908.130435          15.474783              27.000000   \n",
      "std    5.382107e+02   88377.930224           7.604720               4.908043   \n",
      "min    1.476562e+06   39011.000000           5.670000              20.000000   \n",
      "25%    1.477036e+06   61244.500000          12.092500              23.000000   \n",
      "50%    1.477474e+06   78401.000000          13.995000              27.000000   \n",
      "75%    1.477944e+06  129486.000000          18.782500              31.000000   \n",
      "max    1.478427e+06  354719.000000          35.410000              35.000000   \n",
      "\n",
      "       delivery_time  rating_new  \n",
      "count      46.000000   46.000000  \n",
      "mean       23.586957    4.220538  \n",
      "std         5.422489    0.734825  \n",
      "min        15.000000    3.000000  \n",
      "25%        19.000000    4.000000  \n",
      "50%        24.000000    4.315789  \n",
      "75%        28.750000    5.000000  \n",
      "max        33.000000    5.000000  \n",
      "              order_id  customer_id                  restaurant_name  \\\n",
      "cuisine_type                                                           \n",
      "Mexican        1477070        66393                      Cafe Habana   \n",
      "Mexican        1478437       221206                    Empanada Mama   \n",
      "Mexican        1478014        54630                         Tortaria   \n",
      "Mexican        1477425       378482  Chipotle Mexican Grill Delivery   \n",
      "Mexican        1476820       152786                      Cafe Habana   \n",
      "...                ...          ...                              ...   \n",
      "Mexican        1477716       317515                      Cafe Habana   \n",
      "Mexican        1477885       178158  Chipotle Mexican Grill Delivery   \n",
      "Mexican        1476750        94152                    Empanada Mama   \n",
      "Mexican        1477114        47594                      Dos Caminos   \n",
      "Mexican        1476701       292602  Chipotle Mexican Grill Delivery   \n",
      "\n",
      "              cost_of_the_order day_of_the_week     rating  \\\n",
      "cuisine_type                                                 \n",
      "Mexican                   12.23         Weekday          5   \n",
      "Mexican                    8.10         Weekend          5   \n",
      "Mexican                    8.92         Weekend  Not given   \n",
      "Mexican                   19.35         Weekend          4   \n",
      "Mexican                   31.38         Weekend          4   \n",
      "...                         ...             ...        ...   \n",
      "Mexican                   15.62         Weekend  Not given   \n",
      "Mexican                   29.10         Weekday          4   \n",
      "Mexican                   15.37         Weekend          3   \n",
      "Mexican                   12.18         Weekday          5   \n",
      "Mexican                   22.31         Weekend          5   \n",
      "\n",
      "              food_preparation_time  delivery_time  rating_new rating_newww  \n",
      "cuisine_type                                                                 \n",
      "Mexican                          23             28    5.000000          5.0  \n",
      "Mexican                          23             22    5.000000          5.0  \n",
      "Mexican                          33             16    5.000000          5.0  \n",
      "Mexican                          21             18    4.000000          4.0  \n",
      "Mexican                          23             27    4.000000          4.0  \n",
      "...                             ...            ...         ...          ...  \n",
      "Mexican                          29             19    4.272727          4.0  \n",
      "Mexican                          22             32    4.000000          4.0  \n",
      "Mexican                          35             30    3.000000          3.0  \n",
      "Mexican                          24             30    5.000000          5.0  \n",
      "Mexican                          31             17    5.000000          5.0  \n",
      "\n",
      "[76 rows x 10 columns]\n",
      "           order_id    customer_id  cost_of_the_order  food_preparation_time  \\\n",
      "count  7.600000e+01      76.000000          76.000000              76.000000   \n",
      "mean   1.477446e+06  179893.684211          16.947237              26.671053   \n",
      "std    5.565689e+02  111882.670562           7.604286               4.608364   \n",
      "min    1.476582e+06    1311.000000           4.850000              20.000000   \n",
      "25%    1.477031e+06   86731.000000          12.080000              23.000000   \n",
      "50%    1.477408e+06  152786.000000          15.470000              26.000000   \n",
      "75%    1.477897e+06  286342.500000          22.457500              31.000000   \n",
      "max    1.478437e+06  384390.000000          33.320000              35.000000   \n",
      "\n",
      "       delivery_time  rating_new  \n",
      "count      76.000000   76.000000  \n",
      "mean       24.315789    4.451276  \n",
      "std         4.543744    0.607278  \n",
      "min        16.000000    3.000000  \n",
      "25%        21.000000    4.000000  \n",
      "50%        25.000000    4.333333  \n",
      "75%        28.000000    5.000000  \n",
      "max        33.000000    5.000000  \n",
      "                order_id  customer_id       restaurant_name  \\\n",
      "cuisine_type                                                  \n",
      "Middle Eastern   1476714       363783          Cafe Mogador   \n",
      "Middle Eastern   1476693        41877          Cafe Mogador   \n",
      "Middle Eastern   1476688       200672          Cafe Mogador   \n",
      "Middle Eastern   1477314        52832      ilili Restaurant   \n",
      "Middle Eastern   1478396        74925          Cafe Mogador   \n",
      "Middle Eastern   1477490       232035      ilili Restaurant   \n",
      "Middle Eastern   1477156        93797      ilili Restaurant   \n",
      "Middle Eastern   1477278       347263          Hummus Place   \n",
      "Middle Eastern   1478000       167136      ilili Restaurant   \n",
      "Middle Eastern   1477558       268365          Cafe Mogador   \n",
      "Middle Eastern   1478158       232035                Balade   \n",
      "Middle Eastern   1476746       201471      ilili Restaurant   \n",
      "Middle Eastern   1477879       362961      ilili Restaurant   \n",
      "Middle Eastern   1476649        38116  Ravagh Persian Grill   \n",
      "Middle Eastern   1477315       176622          Cafe Mogador   \n",
      "Middle Eastern   1476652       232035      ilili Restaurant   \n",
      "Middle Eastern   1477002       133202      ilili Restaurant   \n",
      "Middle Eastern   1477989       102801      ilili Restaurant   \n",
      "Middle Eastern   1478443        96943          Cafe Mogador   \n",
      "Middle Eastern   1477681       225912             12 Chairs   \n",
      "Middle Eastern   1477960       375098             12 Chairs   \n",
      "Middle Eastern   1478257        41877          Cafe Mogador   \n",
      "Middle Eastern   1477299        60039      ilili Restaurant   \n",
      "Middle Eastern   1477649       106478          Cafe Mogador   \n",
      "Middle Eastern   1477191        93797      ilili Restaurant   \n",
      "Middle Eastern   1476834       176622          Cafe Mogador   \n",
      "Middle Eastern   1476801       104130  Ravagh Persian Grill   \n",
      "Middle Eastern   1477575       367800          Cafe Mogador   \n",
      "Middle Eastern   1476556       301380      ilili Restaurant   \n",
      "Middle Eastern   1478224        74048      ilili Restaurant   \n",
      "Middle Eastern   1476886       320088          Cafe Mogador   \n",
      "Middle Eastern   1477469        96943          Cafe Mogador   \n",
      "Middle Eastern   1477669       260844     Byblos Restaurant   \n",
      "Middle Eastern   1477411       143721          Hummus Place   \n",
      "Middle Eastern   1477289        72322          Cafe Mogador   \n",
      "Middle Eastern   1476694        91105          Cafe Mogador   \n",
      "Middle Eastern   1477813       260844     Byblos Restaurant   \n",
      "Middle Eastern   1477848       276192             12 Chairs   \n",
      "Middle Eastern   1477006       119465          Cafe Mogador   \n",
      "Middle Eastern   1476757       115610             12 Chairs   \n",
      "Middle Eastern   1476604       126798          Cafe Mogador   \n",
      "Middle Eastern   1478381       111909  Ravagh Persian Grill   \n",
      "Middle Eastern   1478113        74048      ilili Restaurant   \n",
      "Middle Eastern   1477082       107909      ilili Restaurant   \n",
      "Middle Eastern   1477075        52832      ilili Restaurant   \n",
      "Middle Eastern   1476705       260680          Cafe Mogador   \n",
      "Middle Eastern   1477771       232035      ilili Restaurant   \n",
      "Middle Eastern   1478105       143721          Hummus Place   \n",
      "Middle Eastern   1478365        60039      ilili Restaurant   \n",
      "\n",
      "                cost_of_the_order day_of_the_week     rating  \\\n",
      "cuisine_type                                                   \n",
      "Middle Eastern              15.86         Weekday  Not given   \n",
      "Middle Eastern              29.10         Weekday          5   \n",
      "Middle Eastern              13.00         Weekend  Not given   \n",
      "Middle Eastern               9.46         Weekday          4   \n",
      "Middle Eastern              24.20         Weekend          4   \n",
      "Middle Eastern               9.17         Weekend  Not given   \n",
      "Middle Eastern               6.02         Weekday  Not given   \n",
      "Middle Eastern              16.15         Weekend          4   \n",
      "Middle Eastern              29.05         Weekend  Not given   \n",
      "Middle Eastern              25.17         Weekend          4   \n",
      "Middle Eastern               9.22         Weekday          5   \n",
      "Middle Eastern              12.66         Weekend          5   \n",
      "Middle Eastern              16.49         Weekend          4   \n",
      "Middle Eastern              16.93         Weekend  Not given   \n",
      "Middle Eastern              15.91         Weekend          5   \n",
      "Middle Eastern               8.97         Weekend  Not given   \n",
      "Middle Eastern              29.25         Weekend          3   \n",
      "Middle Eastern              13.73         Weekday          5   \n",
      "Middle Eastern              29.88         Weekend          4   \n",
      "Middle Eastern              16.30         Weekday          4   \n",
      "Middle Eastern              29.10         Weekend  Not given   \n",
      "Middle Eastern               6.69         Weekend          4   \n",
      "Middle Eastern              31.33         Weekday          4   \n",
      "Middle Eastern              16.15         Weekend          5   \n",
      "Middle Eastern              25.22         Weekday          5   \n",
      "Middle Eastern               9.22         Weekend  Not given   \n",
      "Middle Eastern              14.07         Weekday          5   \n",
      "Middle Eastern              14.12         Weekend  Not given   \n",
      "Middle Eastern              16.30         Weekend          4   \n",
      "Middle Eastern               9.56         Weekend  Not given   \n",
      "Middle Eastern              13.68         Weekend          4   \n",
      "Middle Eastern              24.25         Weekend  Not given   \n",
      "Middle Eastern              25.27         Weekend          3   \n",
      "Middle Eastern               9.75         Weekend          5   \n",
      "Middle Eastern              12.95         Weekend          3   \n",
      "Middle Eastern              29.05         Weekend          4   \n",
      "Middle Eastern              24.20         Weekend  Not given   \n",
      "Middle Eastern              29.05         Weekday          5   \n",
      "Middle Eastern              25.27         Weekday          5   \n",
      "Middle Eastern              14.12         Weekend  Not given   \n",
      "Middle Eastern              19.45         Weekday          4   \n",
      "Middle Eastern              16.06         Weekend  Not given   \n",
      "Middle Eastern              25.22         Weekday          4   \n",
      "Middle Eastern              24.20         Weekday          4   \n",
      "Middle Eastern              31.43         Weekday          3   \n",
      "Middle Eastern               5.77         Weekend          3   \n",
      "Middle Eastern              12.23         Weekday          5   \n",
      "Middle Eastern              29.05         Weekend          5   \n",
      "Middle Eastern              32.93         Weekend          4   \n",
      "\n",
      "                food_preparation_time  delivery_time  rating_new rating_newww  \n",
      "cuisine_type                                                                   \n",
      "Middle Eastern                     32             29    4.153846          4.0  \n",
      "Middle Eastern                     20             29    5.000000          5.0  \n",
      "Middle Eastern                     21             15    4.153846          4.0  \n",
      "Middle Eastern                     25             25    4.000000          4.0  \n",
      "Middle Eastern                     32             22    4.000000          4.0  \n",
      "Middle Eastern                     26             19    4.153846          4.0  \n",
      "Middle Eastern                     27             29    4.153846          4.0  \n",
      "Middle Eastern                     30             28    4.000000          4.0  \n",
      "Middle Eastern                     24             29    4.153846          4.0  \n",
      "Middle Eastern                     23             30    4.000000          4.0  \n",
      "Middle Eastern                     25             24    5.000000          5.0  \n",
      "Middle Eastern                     21             15    5.000000          5.0  \n",
      "Middle Eastern                     30             28    4.000000          4.0  \n",
      "Middle Eastern                     33             21    5.000000          5.0  \n",
      "Middle Eastern                     32             15    5.000000          5.0  \n",
      "Middle Eastern                     24             19    4.153846          4.0  \n",
      "Middle Eastern                     27             21    3.000000          3.0  \n",
      "Middle Eastern                     22             33    5.000000          5.0  \n",
      "Middle Eastern                     20             17    4.000000          4.0  \n",
      "Middle Eastern                     27             26    4.000000          4.0  \n",
      "Middle Eastern                     22             26    4.500000          4.0  \n",
      "Middle Eastern                     23             30    4.000000          4.0  \n",
      "Middle Eastern                     29             27    4.000000          4.0  \n",
      "Middle Eastern                     29             27    5.000000          5.0  \n",
      "Middle Eastern                     25             33    5.000000          5.0  \n",
      "Middle Eastern                     23             15    4.153846          4.0  \n",
      "Middle Eastern                     34             33    5.000000          5.0  \n",
      "Middle Eastern                     24             24    4.153846          4.0  \n",
      "Middle Eastern                     27             16    4.000000          4.0  \n",
      "Middle Eastern                     27             27    4.153846          4.0  \n",
      "Middle Eastern                     29             18    4.000000          4.0  \n",
      "Middle Eastern                     26             22    4.153846          4.0  \n",
      "Middle Eastern                     33             16    3.000000          3.0  \n",
      "Middle Eastern                     28             28    5.000000          5.0  \n",
      "Middle Eastern                     21             20    3.000000          3.0  \n",
      "Middle Eastern                     27             30    4.000000          4.0  \n",
      "Middle Eastern                     32             20    3.000000          3.0  \n",
      "Middle Eastern                     28             32    5.000000          5.0  \n",
      "Middle Eastern                     30             25    5.000000          5.0  \n",
      "Middle Eastern                     31             27    4.500000          4.0  \n",
      "Middle Eastern                     23             29    4.000000          4.0  \n",
      "Middle Eastern                     28             21    5.000000          5.0  \n",
      "Middle Eastern                     32             25    4.000000          4.0  \n",
      "Middle Eastern                     34             24    4.000000          4.0  \n",
      "Middle Eastern                     26             29    3.000000          3.0  \n",
      "Middle Eastern                     20             16    3.000000          3.0  \n",
      "Middle Eastern                     24             32    5.000000          5.0  \n",
      "Middle Eastern                     26             17    5.000000          5.0  \n",
      "Middle Eastern                     25             17    4.000000          4.0  \n",
      "           order_id    customer_id  cost_of_the_order  food_preparation_time  \\\n",
      "count  4.900000e+01      49.000000          49.000000              49.000000   \n",
      "mean   1.477412e+06  168839.938776          18.820612              26.673469   \n",
      "std    5.843258e+02  101134.206615           8.086499               4.012417   \n",
      "min    1.476556e+06   38116.000000           5.770000              20.000000   \n",
      "25%    1.476834e+06   93797.000000          12.950000              24.000000   \n",
      "50%    1.477315e+06  133202.000000          16.300000              27.000000   \n",
      "75%    1.477879e+06  232035.000000          25.270000              30.000000   \n",
      "max    1.478443e+06  375098.000000          32.930000              34.000000   \n",
      "\n",
      "       delivery_time  rating_new  \n",
      "count      49.000000   49.000000  \n",
      "mean       24.081633    4.235479  \n",
      "std         5.663615    0.629478  \n",
      "min        15.000000    3.000000  \n",
      "25%        19.000000    4.000000  \n",
      "50%        25.000000    4.153846  \n",
      "75%        29.000000    5.000000  \n",
      "max        33.000000    5.000000  \n",
      "              order_id  customer_id             restaurant_name  \\\n",
      "cuisine_type                                                      \n",
      "Southern       1477251        81110  Hill Country Fried Chicken   \n",
      "Southern       1478384       184085  Hill Country Fried Chicken   \n",
      "Southern       1477570       292343                  Amy Ruth's   \n",
      "Southern       1476657        91192  Hill Country Fried Chicken   \n",
      "Southern       1476931       124838  Hill Country Fried Chicken   \n",
      "Southern       1477598        81110  Hill Country Fried Chicken   \n",
      "Southern       1476897       197265  Hill Country Fried Chicken   \n",
      "Southern       1477777        73175  Hill Country Fried Chicken   \n",
      "Southern       1478058       200631                  Amy Ruth's   \n",
      "Southern       1477538       184085  Hill Country Fried Chicken   \n",
      "Southern       1477039       338923  Hill Country Fried Chicken   \n",
      "Southern       1477662         6987  Hill Country Fried Chicken   \n",
      "Southern       1477946        81152  Hill Country Fried Chicken   \n",
      "Southern       1477113         6987  Hill Country Fried Chicken   \n",
      "Southern       1477338        81110  Hill Country Fried Chicken   \n",
      "Southern       1478259        68446  Hill Country Fried Chicken   \n",
      "Southern       1478039       292343                  Amy Ruth's   \n",
      "\n",
      "              cost_of_the_order day_of_the_week     rating  \\\n",
      "cuisine_type                                                 \n",
      "Southern                  16.93         Weekend          5   \n",
      "Southern                  14.79         Weekend          5   \n",
      "Southern                  16.11         Weekend          4   \n",
      "Southern                  29.35         Weekend          4   \n",
      "Southern                  29.15         Weekend          5   \n",
      "Southern                  24.20         Weekend          4   \n",
      "Southern                  29.15         Weekend  Not given   \n",
      "Southern                  31.43         Weekday          5   \n",
      "Southern                   7.38         Weekday          4   \n",
      "Southern                  14.84         Weekend          4   \n",
      "Southern                  22.31         Weekday          3   \n",
      "Southern                  29.78         Weekday  Not given   \n",
      "Southern                  14.12         Weekend          5   \n",
      "Southern                  12.23         Weekday          4   \n",
      "Southern                  11.64         Weekend          4   \n",
      "Southern                  12.47         Weekend  Not given   \n",
      "Southern                  12.23         Weekday  Not given   \n",
      "\n",
      "              food_preparation_time  delivery_time  rating_new rating_newww  \n",
      "cuisine_type                                                                 \n",
      "Southern                         33             21    5.000000          5.0  \n",
      "Southern                         35             15    5.000000          5.0  \n",
      "Southern                         30             26    4.000000          4.0  \n",
      "Southern                         26             24    4.000000          4.0  \n",
      "Southern                         33             25    5.000000          5.0  \n",
      "Southern                         25             15    4.000000          4.0  \n",
      "Southern                         20             17    4.363636          4.0  \n",
      "Southern                         25             28    5.000000          5.0  \n",
      "Southern                         24             29    4.000000          4.0  \n",
      "Southern                         21             21    4.000000          4.0  \n",
      "Southern                         21             25    3.000000          3.0  \n",
      "Southern                         35             33    4.363636          4.0  \n",
      "Southern                         25             15    5.000000          5.0  \n",
      "Southern                         20             29    4.000000          4.0  \n",
      "Southern                         35             21    4.000000          4.0  \n",
      "Southern                         29             28    4.363636          4.0  \n",
      "Southern                         32             33    4.000000          4.0  \n",
      "           order_id    customer_id  cost_of_the_order  food_preparation_time  \\\n",
      "count  1.700000e+01      17.000000          17.000000              17.000000   \n",
      "mean   1.477533e+06  140340.117647          19.300588              27.588235   \n",
      "std    5.066781e+02   99460.201806           7.966032               5.523346   \n",
      "min    1.476657e+06    6987.000000           7.380000              20.000000   \n",
      "25%    1.477113e+06   81110.000000          12.470000              24.000000   \n",
      "50%    1.477570e+06   91192.000000          16.110000              26.000000   \n",
      "75%    1.477946e+06  197265.000000          29.150000              33.000000   \n",
      "max    1.478384e+06  338923.000000          31.430000              35.000000   \n",
      "\n",
      "       delivery_time  rating_new  \n",
      "count      17.000000   17.000000  \n",
      "mean       23.823529    4.299465  \n",
      "std         5.960655    0.551823  \n",
      "min        15.000000    3.000000  \n",
      "25%        21.000000    4.000000  \n",
      "50%        25.000000    4.000000  \n",
      "75%        28.000000    5.000000  \n",
      "max        33.000000    5.000000  \n",
      "              order_id  customer_id      restaurant_name  cost_of_the_order  \\\n",
      "cuisine_type                                                                  \n",
      "Spanish        1477431       195927             Boqueria              12.13   \n",
      "Spanish        1477806       195927             Boqueria              12.66   \n",
      "Spanish        1476739       290266  Socarrat Paella Bar              25.22   \n",
      "Spanish        1477023        99288             Boqueria              12.13   \n",
      "Spanish        1477358        83287             Boqueria              14.50   \n",
      "Spanish        1477971       210544             DespaÌ±a              16.98   \n",
      "Spanish        1477589       214028             Boqueria              29.05   \n",
      "Spanish        1477396       140998             Boqueria              13.00   \n",
      "Spanish        1476818       195927             Boqueria              29.10   \n",
      "Spanish        1478007       113238             Boqueria              24.25   \n",
      "Spanish        1478375       214028             Boqueria              22.85   \n",
      "Spanish        1477454       210544             DespaÌ±a              16.06   \n",
      "\n",
      "             day_of_the_week     rating  food_preparation_time  delivery_time  \\\n",
      "cuisine_type                                                                    \n",
      "Spanish              Weekend          5                     30             20   \n",
      "Spanish              Weekend  Not given                     27             30   \n",
      "Spanish              Weekend          5                     23             20   \n",
      "Spanish              Weekday  Not given                     33             28   \n",
      "Spanish              Weekend  Not given                     35             29   \n",
      "Spanish              Weekend  Not given                     20             22   \n",
      "Spanish              Weekend          4                     24             24   \n",
      "Spanish              Weekend          5                     26             24   \n",
      "Spanish              Weekend  Not given                     28             19   \n",
      "Spanish              Weekend  Not given                     28             18   \n",
      "Spanish              Weekend          5                     28             30   \n",
      "Spanish              Weekend          5                     21             17   \n",
      "\n",
      "              rating_new rating_newww  \n",
      "cuisine_type                           \n",
      "Spanish             5.00          5.0  \n",
      "Spanish             4.75          5.0  \n",
      "Spanish             5.00          5.0  \n",
      "Spanish             4.75          5.0  \n",
      "Spanish             4.75          5.0  \n",
      "Spanish             5.00          5.0  \n",
      "Spanish             4.00          4.0  \n",
      "Spanish             5.00          5.0  \n",
      "Spanish             4.75          5.0  \n",
      "Spanish             4.75          5.0  \n",
      "Spanish             5.00          5.0  \n",
      "Spanish             5.00          5.0  \n",
      "           order_id    customer_id  cost_of_the_order  food_preparation_time  \\\n",
      "count  1.200000e+01      12.000000          12.000000              12.000000   \n",
      "mean   1.477497e+06  180333.500000          18.994167              26.916667   \n",
      "std    4.913444e+02   59502.557223           6.658207               4.501683   \n",
      "min    1.476739e+06   83287.000000          12.130000              20.000000   \n",
      "25%    1.477274e+06  134058.000000          12.915000              23.750000   \n",
      "50%    1.477442e+06  195927.000000          16.520000              27.500000   \n",
      "75%    1.477847e+06  211415.000000          24.492500              28.500000   \n",
      "max    1.478375e+06  290266.000000          29.100000              35.000000   \n",
      "\n",
      "       delivery_time  rating_new  \n",
      "count      12.000000   12.000000  \n",
      "mean       23.416667    4.812500  \n",
      "std         4.813963    0.284545  \n",
      "min        17.000000    4.000000  \n",
      "25%        19.750000    4.750000  \n",
      "50%        23.000000    4.875000  \n",
      "75%        28.250000    5.000000  \n",
      "max        30.000000    5.000000  \n",
      "              order_id  customer_id             restaurant_name  \\\n",
      "cuisine_type                                                      \n",
      "Thai           1477699       302790                       Klong   \n",
      "Thai           1478321       275535                Pongsri Thai   \n",
      "Thai           1477177        42385  Song Thai Restaurant & Bar   \n",
      "Thai           1478391       184325   Pinto Nouveau Thai Bistro   \n",
      "Thai           1476892       177078        Lantern Thai Kitchen   \n",
      "Thai           1477657       177078        Lantern Thai Kitchen   \n",
      "Thai           1476717       151191                Pongsri Thai   \n",
      "Thai           1477374       177078        Lantern Thai Kitchen   \n",
      "Thai           1478242       372276   Pinto Nouveau Thai Bistro   \n",
      "Thai           1477408       125542         Hampton Chutney Co.   \n",
      "Thai           1477956       177078        Lantern Thai Kitchen   \n",
      "Thai           1477182       383826  Song Thai Restaurant & Bar   \n",
      "Thai           1477417       355759   Pinto Nouveau Thai Bistro   \n",
      "Thai           1477744        58675   Pinto Nouveau Thai Bistro   \n",
      "\n",
      "              cost_of_the_order day_of_the_week     rating  \\\n",
      "cuisine_type                                                 \n",
      "Thai                      29.05         Weekend          5   \n",
      "Thai                      13.05         Weekday          4   \n",
      "Thai                      24.20         Weekend          5   \n",
      "Thai                      19.35         Weekend          4   \n",
      "Thai                      21.93         Weekday  Not given   \n",
      "Thai                      13.97         Weekend  Not given   \n",
      "Thai                      20.18         Weekday  Not given   \n",
      "Thai                      32.93         Weekend  Not given   \n",
      "Thai                      24.20         Weekend          5   \n",
      "Thai                      12.37         Weekend          4   \n",
      "Thai                       9.46         Weekend          5   \n",
      "Thai                      29.20         Weekend          5   \n",
      "Thai                      11.79         Weekend          5   \n",
      "Thai                      17.08         Weekend  Not given   \n",
      "\n",
      "              food_preparation_time  delivery_time  rating_new rating_newww  \n",
      "cuisine_type                                                                 \n",
      "Thai                             35             24    5.000000          5.0  \n",
      "Thai                             31             24    4.000000          4.0  \n",
      "Thai                             21             26    5.000000          5.0  \n",
      "Thai                             34             24    4.000000          4.0  \n",
      "Thai                             22             25    5.000000          5.0  \n",
      "Thai                             28             29    5.000000          5.0  \n",
      "Thai                             23             25    4.000000          4.0  \n",
      "Thai                             34             27    5.000000          5.0  \n",
      "Thai                             29             15    5.000000          5.0  \n",
      "Thai                             21             20    4.000000          4.0  \n",
      "Thai                             29             19    5.000000          5.0  \n",
      "Thai                             21             28    5.000000          5.0  \n",
      "Thai                             21             27    5.000000          5.0  \n",
      "Thai                             23             16    4.666667          5.0  \n",
      "           order_id    customer_id  cost_of_the_order  food_preparation_time  \\\n",
      "count  1.400000e+01      14.000000          14.000000              14.000000   \n",
      "mean   1.477584e+06  211472.571429          19.911429              26.571429   \n",
      "std    5.166974e+02  109982.327385           7.353596               5.445030   \n",
      "min    1.476717e+06   42385.000000           9.460000              21.000000   \n",
      "25%    1.477230e+06  157662.750000          13.280000              21.250000   \n",
      "50%    1.477537e+06  177078.000000          19.765000              25.500000   \n",
      "75%    1.477903e+06  295976.250000          24.200000              30.500000   \n",
      "max    1.478391e+06  383826.000000          32.930000              35.000000   \n",
      "\n",
      "       delivery_time  rating_new  \n",
      "count      14.000000   14.000000  \n",
      "mean       23.500000    4.690476  \n",
      "std         4.363309    0.461589  \n",
      "min        15.000000    4.000000  \n",
      "25%        21.000000    4.166667  \n",
      "50%        24.500000    5.000000  \n",
      "75%        26.750000    5.000000  \n",
      "max        29.000000    5.000000  \n",
      "              order_id  customer_id       restaurant_name  cost_of_the_order  \\\n",
      "cuisine_type                                                                   \n",
      "Vietnamese     1477014       399520  Xe May Sandwich Shop               7.96   \n",
      "Vietnamese     1477799       399520  Xe May Sandwich Shop              14.07   \n",
      "Vietnamese     1477189        54630            V-Nam Cafe              22.26   \n",
      "Vietnamese     1478373        40808            V-Nam Cafe               6.01   \n",
      "Vietnamese     1476837       147468         Nha Trang One              15.67   \n",
      "Vietnamese     1477555       361497            V-Nam Cafe              12.13   \n",
      "Vietnamese     1476957        54630            V-Nam Cafe              12.08   \n",
      "\n",
      "             day_of_the_week     rating  food_preparation_time  delivery_time  \\\n",
      "cuisine_type                                                                    \n",
      "Vietnamese           Weekend          5                     25             29   \n",
      "Vietnamese           Weekday  Not given                     28             28   \n",
      "Vietnamese           Weekend          5                     33             26   \n",
      "Vietnamese           Weekday          3                     20             31   \n",
      "Vietnamese           Weekday          3                     23             24   \n",
      "Vietnamese           Weekend          4                     20             26   \n",
      "Vietnamese           Weekend  Not given                     31             19   \n",
      "\n",
      "              rating_new rating_newww  \n",
      "cuisine_type                           \n",
      "Vietnamese           5.0          5.0  \n",
      "Vietnamese           5.0          5.0  \n",
      "Vietnamese           5.0          5.0  \n",
      "Vietnamese           3.0          3.0  \n",
      "Vietnamese           3.0          3.0  \n",
      "Vietnamese           4.0          4.0  \n",
      "Vietnamese           4.0          4.0  \n",
      "           order_id    customer_id  cost_of_the_order  food_preparation_time  \\\n",
      "count  7.000000e+00       7.000000           7.000000               7.000000   \n",
      "mean   1.477389e+06  208296.142857          12.882857              25.714286   \n",
      "std    5.531523e+02  171066.525847           5.319623               5.154748   \n",
      "min    1.476837e+06   40808.000000           6.010000              20.000000   \n",
      "25%    1.476986e+06   54630.000000          10.020000              21.500000   \n",
      "50%    1.477189e+06  147468.000000          12.130000              25.000000   \n",
      "75%    1.477677e+06  380508.500000          14.870000              29.500000   \n",
      "max    1.478373e+06  399520.000000          22.260000              33.000000   \n",
      "\n",
      "       delivery_time  rating_new  \n",
      "count       7.000000    7.000000  \n",
      "mean       26.142857    4.142857  \n",
      "std         3.891382    0.899735  \n",
      "min        19.000000    3.000000  \n",
      "25%        25.000000    3.500000  \n",
      "50%        26.000000    4.000000  \n",
      "75%        28.500000    5.000000  \n",
      "max        31.000000    5.000000  \n"
     ]
    }
   ],
   "source": [
    "#Descriptive statistics per different categories of cousine\n",
    "# Values of cost_of_the_order, food_preparation_time, delivery_time per different categories of cousine\n",
    "\n",
    "dataset_obs.set_index('cuisine_type', inplace=True)\n",
    "#American \n",
    "print(dataset_obs.loc[['American']]) \n",
    "print(dataset_obs.loc[['American']].describe()) # Descriptive statistics per American cuisine\n",
    "\n",
    "#Chinese\n",
    "print(dataset_obs.loc[['Chinese']]) \n",
    "print(dataset_obs.loc[['Chinese']].describe()) # Descriptive statistics per Chinese cuisine\n",
    "\n",
    "#French\n",
    "print(dataset_obs.loc[['French']])\n",
    "print(dataset_obs.loc[['French']].describe()) # Descriptive statistics per French cuisine\n",
    "\n",
    "#Indian\n",
    "print(dataset_obs.loc[['Indian']]) \n",
    "print(dataset_obs.loc[['Indian']].describe()) # Descriptive statistics per Indian cuisine\n",
    "\n",
    "#Italian\n",
    "print(dataset_obs.loc[['Italian']]) \n",
    "print(dataset_obs.loc[['Italian']].describe()) # Descriptive statistics per Italian cuisine\n",
    "\n",
    "#Japanese\n",
    "print(dataset_obs.loc[['Japanese']]) \n",
    "print(dataset_obs.loc[['Japanese']].describe()) # Descriptive statistics per Japanese cuisine\n",
    "\n",
    "#Korean\n",
    "print(dataset_obs.loc[['Korean']]) \n",
    "print(dataset_obs.loc[['Korean']].describe()) # Descriptive statistics per Korean cuisine\n",
    "\n",
    "#Mediterranean\n",
    "print(dataset_obs.loc[['Mediterranean']]) \n",
    "print(dataset_obs.loc[['Mediterranean']].describe()) # Descriptive statistics per Mediterranean cuisine\n",
    "\n",
    "#Mexican\n",
    "print(dataset_obs.loc[['Mexican']]) \n",
    "print(dataset_obs.loc[['Mexican']].describe()) # Descriptive statistics per Mexican cuisine                \n",
    "    \n",
    "#Middle Eastern\n",
    "print(dataset_obs.loc[['Middle Eastern']])\n",
    "print(dataset_obs.loc[['Middle Eastern']].describe()) # Descriptive statistics per Middle Easterncuisine        \n",
    "\n",
    "#Southern\n",
    "print(dataset_obs.loc[['Southern']]) \n",
    "print(dataset_obs.loc[['Southern']].describe()) # Descriptive statistics per Southerncuisine        \n",
    "\n",
    "#Spanish\n",
    "print(dataset_obs.loc[['Spanish']]) \n",
    "print(dataset_obs.loc[['Spanish']].describe()) # Descriptive statistics per Spanish cuisine        \n",
    "\n",
    "#Thai\n",
    "print(dataset_obs.loc[['Thai']])\n",
    "print(dataset_obs.loc[['Thai']].describe()) # Descriptive statistics per Thai cuisine        \n",
    "\n",
    "#Vietnamese\n",
    "print(dataset_obs.loc[['Vietnamese']]) \n",
    "print(dataset_obs.loc[['Vietnamese']].describe()) # Descriptive statistics per Vietnamese cuisine        \n"
   ]
  },
  {
   "cell_type": "code",
   "execution_count": 49,
   "id": "2518e783",
   "metadata": {},
   "outputs": [
    {
     "data": {
      "image/png": "[encoded data removed]",
      "text/plain": [
       "<Figure size 720x936 with 4 Axes>"
      ]
     },
     "metadata": {
      "needs_background": "light"
     },
     "output_type": "display_data"
    },
    {
     "data": {
      "text/plain": [
       "<Figure size 432x288 with 0 Axes>"
      ]
     },
     "metadata": {},
     "output_type": "display_data"
    }
   ],
   "source": [
    "# Box plot of the cost of food  by most four popular cuisine categories \n",
    "plt.figure(figsize=(10,13)) \n",
    "# Objective : plt.subplot(2,2,4) #Creation of a figure with four subplots, split into 2 rows and 2 columns \n",
    "#1st subplot_ American cuisine\n",
    "plt.subplot(2,2,1)\n",
    "sns.boxplot(x='cost_of_the_order', data=dataset_obs.loc[['American']])\n",
    "plt.axis([4.470000, 35.410000, -1, 1]) \n",
    "plt.xlabel('cost_of_the_order($)')\n",
    "plt.title('American cuisine')\n",
    "#2nd subplot _Chinese cuisine\n",
    "plt.subplot(2,2,2)\n",
    "sns.boxplot(x='cost_of_the_order', data=dataset_obs.loc[['Chinese']])\n",
    "plt.axis([4.470000, 35.410000, -1, 1]) \n",
    "plt.xlabel('cost_of_the_order($)')\n",
    "plt.title('Chinese cuisine')\n",
    "#3th subplot _Italian cuisine\n",
    "plt.subplot(2,2,3)\n",
    "sns.boxplot(x='cost_of_the_order', data=dataset_obs.loc[['Italian']])\n",
    "plt.axis([4.470000, 35.410000, -1, 1]) \n",
    "plt.xlabel('cost_of_the_order($)')\n",
    "plt.title('Italian cuisine')\n",
    "#4th subplot_Japanese\n",
    "plt.subplot(2,2,4)\n",
    "sns.boxplot(x='cost_of_the_order', data=dataset_obs.loc[['Japanese']]) \n",
    "plt.axis([4.470000, 35.410000, -1, 1]) \n",
    "plt.xlabel('cost_of_the_order($)')\n",
    "plt.title('Japanese cuisine')\n",
    "plt.savefig('Fig12.png')\n",
    "plt.show()\n",
    "plt.clf()"
   ]
  },
  {
   "cell_type": "code",
   "execution_count": 50,
   "id": "3f06a1e6",
   "metadata": {},
   "outputs": [
    {
     "data": {
      "image/png": "[encoded data removed]",
      "text/plain": [
       "<Figure size 720x936 with 4 Axes>"
      ]
     },
     "metadata": {
      "needs_background": "light"
     },
     "output_type": "display_data"
    },
    {
     "data": {
      "text/plain": [
       "<Figure size 432x288 with 0 Axes>"
      ]
     },
     "metadata": {},
     "output_type": "display_data"
    }
   ],
   "source": [
    "# Box plot of the time preparation food by most four popular cuisine categories \n",
    "plt.figure(figsize=(10,13)) \n",
    "# Objective : plt.subplot(2,2,4) #Creation of a figure with four subplots, split into 2 rows and 2 columns \n",
    "#1st subplot_ American cuisine\n",
    "plt.subplot(2,2,1)\n",
    "sns.boxplot(x='food_preparation_time', data=dataset_obs.loc[['American']])\n",
    "#plt.axis([35.410000, 4.470000, -1, 1]) \n",
    "plt.xlabel('Preparation food (minutes)')\n",
    "plt.title('American cuisine')\n",
    "#2nd subplot _Chinese cuisine\n",
    "plt.subplot(2,2,2)\n",
    "sns.boxplot(x='food_preparation_time', data=dataset_obs.loc[['Chinese']])\n",
    "#plt.axis([35.410000, 4.470000, -1, 1]) \n",
    "plt.xlabel('Preparation food (minutes)')\n",
    "plt.title('Chinese cuisine')\n",
    "#3th subplot_Italian cuisine \n",
    "plt.subplot(2,2,3)\n",
    "sns.boxplot(x='food_preparation_time', data=dataset_obs.loc[['Italian']])\n",
    "#plt.axis([35.410000, 4.470000, -1, 1]) \n",
    "plt.xlabel('Preparation food (minutes)')\n",
    "plt.title('Italian cuisine ')\n",
    "#4th subplot_Japanese\n",
    "plt.subplot(2,2,4)\n",
    "sns.boxplot(x='food_preparation_time', data=dataset_obs.loc[['Japanese']])\n",
    "#plt.axis([35.410000, 4.470000, -1, 1]) \n",
    "plt.xlabel('Preparation food (minutes)')\n",
    "plt.title('Japanese cuisine')\n",
    "plt.savefig('Fig13.png')\n",
    "plt.show()\n",
    "plt.clf()"
   ]
  },
  {
   "cell_type": "code",
   "execution_count": 51,
   "id": "2fa0eb14",
   "metadata": {},
   "outputs": [
    {
     "data": {
      "image/png": "[encoded data removed]",
      "text/plain": [
       "<Figure size 720x936 with 4 Axes>"
      ]
     },
     "metadata": {
      "needs_background": "light"
     },
     "output_type": "display_data"
    },
    {
     "data": {
      "text/plain": [
       "<Figure size 432x288 with 0 Axes>"
      ]
     },
     "metadata": {},
     "output_type": "display_data"
    }
   ],
   "source": [
    "# Box plot of the delivery food by most four popular cuisine categories \n",
    "plt.figure(figsize=(10,13)) \n",
    "# Objective : plt.subplot(2,2,4) #Creation of a figure with four subplots, split into 2 rows and 2 columns \n",
    "#1st subplot_ American cuisine\n",
    "plt.subplot(2,2,1)\n",
    "sns.boxplot(x='delivery_time', data=dataset_obs.loc[['American']])\n",
    "#plt.axis([35.410000, 4.470000, -1, 1]) \n",
    "plt.xlabel('Delivery food (minutes)')\n",
    "plt.title('American cuisine')\n",
    "#2nd subplot _Chinese cuisine\n",
    "plt.subplot(2,2,2)\n",
    "sns.boxplot(x='delivery_time', data=dataset_obs.loc[['Chinese']])\n",
    "#plt.axis([35.410000, 4.470000, -1, 1]) \n",
    "plt.xlabel('Delivery food (minutes)')\n",
    "plt.title('Chinese cuisine')\n",
    "#3th subplot_Italian cuisine \n",
    "plt.subplot(2,2,3)\n",
    "sns.boxplot(x='delivery_time', data=dataset_obs.loc[['Italian']])\n",
    "#plt.axis([35.410000, 4.470000, -1, 1]) \n",
    "plt.xlabel('Delivery food (minutes)')\n",
    "plt.title('Italian cuisine ')\n",
    "#4th subplot_Japanese\n",
    "plt.subplot(2,2,4)\n",
    "sns.boxplot(x='delivery_time', data=dataset_obs.loc[['Japanese']])\n",
    "#plt.axis([35.410000, 4.470000, -1, 1]) \n",
    "plt.xlabel('Delivery food (minutes)')\n",
    "plt.title('Japanese cuisine')\n",
    "plt.savefig('Fig14.png')\n",
    "plt.show()\n",
    "plt.clf()"
   ]
  },
  {
   "cell_type": "markdown",
   "id": "b4edb08d",
   "metadata": {},
   "source": [
    "Cost (Price) of food  by per weekend and weekdays "
   ]
  },
  {
   "cell_type": "code",
   "execution_count": 52,
   "id": "c28ad735",
   "metadata": {},
   "outputs": [
    {
     "data": {
      "image/png": "[encoded data removed]",
      "text/plain": [
       "<Figure size 720x936 with 2 Axes>"
      ]
     },
     "metadata": {
      "needs_background": "light"
     },
     "output_type": "display_data"
    },
    {
     "data": {
      "text/plain": [
       "<Figure size 432x288 with 0 Axes>"
      ]
     },
     "metadata": {},
     "output_type": "display_data"
    }
   ],
   "source": [
    "# Box plot of the cost of food  by per weekend and weekdays \n",
    "plt.figure(figsize=(10,13)) \n",
    "# Objective : plt.subplot(1,2,2) #Creation of a figure with two subplots, split into 2 rows and 1columns \n",
    "#1st subplot_ weekend\n",
    "plt.subplot(2,2,1)\n",
    "sns.boxplot(x='cost_of_the_order', data=dataset_obs.loc[dataset_obs[\"day_of_the_week\"] == 'Weekend'])\n",
    "#plt.axis([4.470000, 35.410000, -1, 1]) \n",
    "plt.xlabel('cost_of_the_order($)')\n",
    "plt.title('Weekend')\n",
    "#2nd subplot _weekday\n",
    "plt.subplot(2,2,2)\n",
    "sns.boxplot(x='cost_of_the_order', data=dataset_obs.loc[dataset_obs[\"day_of_the_week\"] == 'Weekday'])\n",
    "#plt.axis([4.470000, 35.410000, -1, 1]) \n",
    "plt.xlabel('cost_of_the_order($)')\n",
    "plt.title('Weekday')\n",
    "\n",
    "plt.savefig('Fig15.png')\n",
    "plt.show()\n",
    "plt.clf()"
   ]
  },
  {
   "cell_type": "markdown",
   "id": "c1538b7a",
   "metadata": {},
   "source": [
    "Inspection correlation between cost_of_the_order, food_preparation_time and delivery time"
   ]
  },
  {
   "cell_type": "code",
   "execution_count": 53,
   "id": "836d888f",
   "metadata": {},
   "outputs": [
    {
     "name": "stdout",
     "output_type": "stream",
     "text": [
      "0.04385291390403549\n",
      "0.04385291390403549\n",
      "0.051792245659854574\n"
     ]
    }
   ],
   "source": [
    "#Is there a correlation between cost_of_the_order and food_preparation_time?\n",
    "print(dataset_obs['cost_of_the_order'].corr(dataset_obs['food_preparation_time'])) #x.corr(y)\n",
    "print(dataset_obs['food_preparation_time'].corr(dataset_obs['cost_of_the_order'])) #y.corr(x)\n",
    "print(dataset_obs['cost_of_the_order'].corr(dataset_obs['food_preparation_time'], method='spearman')) #x.corr(y, method='spearman') "
   ]
  },
  {
   "cell_type": "markdown",
   "id": "1804c320",
   "metadata": {},
   "source": [
    "The output shows that there is no so significant correlation between price of the order and preparation of the order. "
   ]
  },
  {
   "cell_type": "code",
   "execution_count": 54,
   "id": "7e57994b",
   "metadata": {},
   "outputs": [
    {
     "name": "stdout",
     "output_type": "stream",
     "text": [
      "-0.03308716265712461\n",
      "-0.03308716265712461\n",
      "-0.029631497891280636\n"
     ]
    }
   ],
   "source": [
    "#Is there a correlation between cost_of_the_order and delivery_time?\n",
    "print(dataset_obs['cost_of_the_order'].corr(dataset_obs['delivery_time'])) #x.corr(y)\n",
    "print(dataset_obs['delivery_time'].corr(dataset_obs['cost_of_the_order'])) #y.corr(x)\n",
    "print(dataset_obs['cost_of_the_order'].corr(dataset_obs['delivery_time'], method='spearman')) #x.corr(y, method='spearman') "
   ]
  },
  {
   "cell_type": "markdown",
   "id": "1a91c05c",
   "metadata": {},
   "source": [
    "The output shows that there is no so significant correlation between price of the order and time delivery of the order. "
   ]
  },
  {
   "cell_type": "markdown",
   "id": "d79b36b3",
   "metadata": {},
   "source": [
    "# References"
   ]
  },
  {
   "cell_type": "markdown",
   "id": "6a6cc133",
   "metadata": {},
   "source": [
    "[REF1] https://en.wikipedia.org/wiki/Foodhub\n",
    "[REF2] https://www.kaggle.com/datasets/ahsan81/food-ordering-and-delivery-app-dataset\n",
    "    "
   ]
  }
 ],
 "metadata": {
  "kernelspec": {
   "display_name": "Python 3 (ipykernel)",
   "language": "python",
   "name": "python3"
  },
  "language_info": {
   "codemirror_mode": {
    "name": "ipython",
    "version": 3
   },
   "file_extension": ".py",
   "mimetype": "text/x-python",
   "name": "python",
   "nbconvert_exporter": "python",
   "pygments_lexer": "ipython3",
   "version": "3.9.12"
  }
 },
 "nbformat": 4,
 "nbformat_minor": 5
}
